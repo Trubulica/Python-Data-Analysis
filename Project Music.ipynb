{
 "cells": [
  {
   "cell_type": "markdown",
   "metadata": {},
   "source": [
    "# Python Data Science Prep & EDA Project"
   ]
  },
  {
   "cell_type": "markdown",
   "metadata": {},
   "source": [
    "## 1. Scope the Project"
   ]
  },
  {
   "cell_type": "markdown",
   "metadata": {},
   "source": [
    "Our plan is to use a supervised learning technique to predict which customers are most likely to cancel their subscription using **the past three months of customer data which includes subscription and listening history**."
   ]
  },
  {
   "cell_type": "markdown",
   "metadata": {},
   "source": [
    "## 2. Gather Data"
   ]
  },
  {
   "cell_type": "code",
   "execution_count": 1,
   "metadata": {},
   "outputs": [],
   "source": [
    "import pandas as pd\n",
    "import numpy as np\n",
    "\n",
    "customer_data = pd.read_csv('../data/maven_music_customers.csv')\n",
    "listening_history = pd.read_excel('../data/maven_music_listening_history.xlsx')\n",
    "audio_data = pd.read_excel('../data/maven_music_listening_history.xlsx', sheet_name=1)\n",
    "session_data = pd.read_excel('../data/maven_music_listening_history.xlsx', sheet_name=2)"
   ]
  },
  {
   "cell_type": "code",
   "execution_count": 2,
   "metadata": {
    "scrolled": true
   },
   "outputs": [
    {
     "data": {
      "text/html": [
       "<div>\n",
       "<style scoped>\n",
       "    .dataframe tbody tr th:only-of-type {\n",
       "        vertical-align: middle;\n",
       "    }\n",
       "\n",
       "    .dataframe tbody tr th {\n",
       "        vertical-align: top;\n",
       "    }\n",
       "\n",
       "    .dataframe thead th {\n",
       "        text-align: right;\n",
       "    }\n",
       "</style>\n",
       "<table border=\"1\" class=\"dataframe\">\n",
       "  <thead>\n",
       "    <tr style=\"text-align: right;\">\n",
       "      <th></th>\n",
       "      <th>Customer ID</th>\n",
       "      <th>Customer Name</th>\n",
       "      <th>Email</th>\n",
       "      <th>Member Since</th>\n",
       "      <th>Subscription Plan</th>\n",
       "      <th>Subscription Rate</th>\n",
       "      <th>Discount?</th>\n",
       "      <th>Cancellation Date</th>\n",
       "    </tr>\n",
       "  </thead>\n",
       "  <tbody>\n",
       "    <tr>\n",
       "      <th>0</th>\n",
       "      <td>5001</td>\n",
       "      <td>Harmony Greene</td>\n",
       "      <td>Email: harmonious.vibes@email.com</td>\n",
       "      <td>3/13/23</td>\n",
       "      <td>Basic (Ads)</td>\n",
       "      <td>$2.99</td>\n",
       "      <td>NaN</td>\n",
       "      <td>NaN</td>\n",
       "    </tr>\n",
       "    <tr>\n",
       "      <th>1</th>\n",
       "      <td>5002</td>\n",
       "      <td>Aria Keys</td>\n",
       "      <td>Email: melodious.aria@email.edu</td>\n",
       "      <td>3/13/23</td>\n",
       "      <td>NaN</td>\n",
       "      <td>$2.99</td>\n",
       "      <td>NaN</td>\n",
       "      <td>NaN</td>\n",
       "    </tr>\n",
       "    <tr>\n",
       "      <th>2</th>\n",
       "      <td>5004</td>\n",
       "      <td>Lyric Bell</td>\n",
       "      <td>Email: rhythmical.lyric@email.com</td>\n",
       "      <td>3/13/23</td>\n",
       "      <td>NaN</td>\n",
       "      <td>$2.99</td>\n",
       "      <td>NaN</td>\n",
       "      <td>6/1/23</td>\n",
       "    </tr>\n",
       "    <tr>\n",
       "      <th>3</th>\n",
       "      <td>5267</td>\n",
       "      <td>Rock Bassett</td>\n",
       "      <td>Email: groovy.rock@email.com</td>\n",
       "      <td>3/20/23</td>\n",
       "      <td>Basic (Ads)</td>\n",
       "      <td>$2.99</td>\n",
       "      <td>NaN</td>\n",
       "      <td>NaN</td>\n",
       "    </tr>\n",
       "    <tr>\n",
       "      <th>4</th>\n",
       "      <td>5338</td>\n",
       "      <td>Rhythm Dixon</td>\n",
       "      <td>Email: beats.by.rhythm@email.edu</td>\n",
       "      <td>3/20/23</td>\n",
       "      <td>NaN</td>\n",
       "      <td>$2.99</td>\n",
       "      <td>NaN</td>\n",
       "      <td>NaN</td>\n",
       "    </tr>\n",
       "  </tbody>\n",
       "</table>\n",
       "</div>"
      ],
      "text/plain": [
       "   Customer ID   Customer Name                              Email  \\\n",
       "0         5001  Harmony Greene  Email: harmonious.vibes@email.com   \n",
       "1         5002       Aria Keys    Email: melodious.aria@email.edu   \n",
       "2         5004      Lyric Bell  Email: rhythmical.lyric@email.com   \n",
       "3         5267    Rock Bassett       Email: groovy.rock@email.com   \n",
       "4         5338    Rhythm Dixon   Email: beats.by.rhythm@email.edu   \n",
       "\n",
       "  Member Since Subscription Plan Subscription Rate Discount? Cancellation Date  \n",
       "0      3/13/23       Basic (Ads)            $2.99        NaN               NaN  \n",
       "1      3/13/23               NaN            $2.99        NaN               NaN  \n",
       "2      3/13/23               NaN            $2.99        NaN            6/1/23  \n",
       "3      3/20/23       Basic (Ads)            $2.99        NaN               NaN  \n",
       "4      3/20/23               NaN            $2.99        NaN               NaN  "
      ]
     },
     "execution_count": 2,
     "metadata": {},
     "output_type": "execute_result"
    }
   ],
   "source": [
    "customer_data.head()"
   ]
  },
  {
   "cell_type": "code",
   "execution_count": 3,
   "metadata": {},
   "outputs": [
    {
     "data": {
      "text/html": [
       "<div>\n",
       "<style scoped>\n",
       "    .dataframe tbody tr th:only-of-type {\n",
       "        vertical-align: middle;\n",
       "    }\n",
       "\n",
       "    .dataframe tbody tr th {\n",
       "        vertical-align: top;\n",
       "    }\n",
       "\n",
       "    .dataframe thead th {\n",
       "        text-align: right;\n",
       "    }\n",
       "</style>\n",
       "<table border=\"1\" class=\"dataframe\">\n",
       "  <thead>\n",
       "    <tr style=\"text-align: right;\">\n",
       "      <th></th>\n",
       "      <th>Customer ID</th>\n",
       "      <th>Session ID</th>\n",
       "      <th>Audio Order</th>\n",
       "      <th>Audio ID</th>\n",
       "      <th>Audio Type</th>\n",
       "    </tr>\n",
       "  </thead>\n",
       "  <tbody>\n",
       "    <tr>\n",
       "      <th>0</th>\n",
       "      <td>5001</td>\n",
       "      <td>100520</td>\n",
       "      <td>1</td>\n",
       "      <td>101</td>\n",
       "      <td>Song</td>\n",
       "    </tr>\n",
       "    <tr>\n",
       "      <th>1</th>\n",
       "      <td>5001</td>\n",
       "      <td>100520</td>\n",
       "      <td>2</td>\n",
       "      <td>102</td>\n",
       "      <td>Song</td>\n",
       "    </tr>\n",
       "    <tr>\n",
       "      <th>2</th>\n",
       "      <td>5001</td>\n",
       "      <td>100520</td>\n",
       "      <td>3</td>\n",
       "      <td>103</td>\n",
       "      <td>Song</td>\n",
       "    </tr>\n",
       "    <tr>\n",
       "      <th>3</th>\n",
       "      <td>5001</td>\n",
       "      <td>100520</td>\n",
       "      <td>4</td>\n",
       "      <td>104</td>\n",
       "      <td>Song</td>\n",
       "    </tr>\n",
       "    <tr>\n",
       "      <th>4</th>\n",
       "      <td>5001</td>\n",
       "      <td>100520</td>\n",
       "      <td>5</td>\n",
       "      <td>105</td>\n",
       "      <td>Song</td>\n",
       "    </tr>\n",
       "  </tbody>\n",
       "</table>\n",
       "</div>"
      ],
      "text/plain": [
       "   Customer ID  Session ID  Audio Order  Audio ID Audio Type\n",
       "0         5001      100520            1       101       Song\n",
       "1         5001      100520            2       102       Song\n",
       "2         5001      100520            3       103       Song\n",
       "3         5001      100520            4       104       Song\n",
       "4         5001      100520            5       105       Song"
      ]
     },
     "execution_count": 3,
     "metadata": {},
     "output_type": "execute_result"
    }
   ],
   "source": [
    "listening_history.head()"
   ]
  },
  {
   "cell_type": "code",
   "execution_count": 4,
   "metadata": {},
   "outputs": [
    {
     "data": {
      "text/html": [
       "<div>\n",
       "<style scoped>\n",
       "    .dataframe tbody tr th:only-of-type {\n",
       "        vertical-align: middle;\n",
       "    }\n",
       "\n",
       "    .dataframe tbody tr th {\n",
       "        vertical-align: top;\n",
       "    }\n",
       "\n",
       "    .dataframe thead th {\n",
       "        text-align: right;\n",
       "    }\n",
       "</style>\n",
       "<table border=\"1\" class=\"dataframe\">\n",
       "  <thead>\n",
       "    <tr style=\"text-align: right;\">\n",
       "      <th></th>\n",
       "      <th>ID</th>\n",
       "      <th>Name</th>\n",
       "      <th>Genre</th>\n",
       "      <th>Popularity</th>\n",
       "    </tr>\n",
       "  </thead>\n",
       "  <tbody>\n",
       "    <tr>\n",
       "      <th>0</th>\n",
       "      <td>Song-101</td>\n",
       "      <td>Dance All Night</td>\n",
       "      <td>Pop</td>\n",
       "      <td>1</td>\n",
       "    </tr>\n",
       "    <tr>\n",
       "      <th>1</th>\n",
       "      <td>Song-102</td>\n",
       "      <td>Unbreakable Beat</td>\n",
       "      <td>Pop</td>\n",
       "      <td>2</td>\n",
       "    </tr>\n",
       "    <tr>\n",
       "      <th>2</th>\n",
       "      <td>Song-103</td>\n",
       "      <td>Sunset Boulevard</td>\n",
       "      <td>Pop Music</td>\n",
       "      <td>5</td>\n",
       "    </tr>\n",
       "    <tr>\n",
       "      <th>3</th>\n",
       "      <td>Song-104</td>\n",
       "      <td>Glowing Hearts</td>\n",
       "      <td>Pop Music</td>\n",
       "      <td>10</td>\n",
       "    </tr>\n",
       "    <tr>\n",
       "      <th>4</th>\n",
       "      <td>Song-105</td>\n",
       "      <td>Pop Rocks</td>\n",
       "      <td>Pop Music</td>\n",
       "      <td>52</td>\n",
       "    </tr>\n",
       "  </tbody>\n",
       "</table>\n",
       "</div>"
      ],
      "text/plain": [
       "         ID              Name      Genre  Popularity\n",
       "0  Song-101   Dance All Night        Pop           1\n",
       "1  Song-102  Unbreakable Beat        Pop           2\n",
       "2  Song-103  Sunset Boulevard  Pop Music           5\n",
       "3  Song-104    Glowing Hearts  Pop Music          10\n",
       "4  Song-105         Pop Rocks  Pop Music          52"
      ]
     },
     "execution_count": 4,
     "metadata": {},
     "output_type": "execute_result"
    }
   ],
   "source": [
    "audio_data.head()"
   ]
  },
  {
   "cell_type": "code",
   "execution_count": 5,
   "metadata": {},
   "outputs": [
    {
     "data": {
      "text/html": [
       "<div>\n",
       "<style scoped>\n",
       "    .dataframe tbody tr th:only-of-type {\n",
       "        vertical-align: middle;\n",
       "    }\n",
       "\n",
       "    .dataframe tbody tr th {\n",
       "        vertical-align: top;\n",
       "    }\n",
       "\n",
       "    .dataframe thead th {\n",
       "        text-align: right;\n",
       "    }\n",
       "</style>\n",
       "<table border=\"1\" class=\"dataframe\">\n",
       "  <thead>\n",
       "    <tr style=\"text-align: right;\">\n",
       "      <th></th>\n",
       "      <th>Session ID</th>\n",
       "      <th>Session Log In Time</th>\n",
       "    </tr>\n",
       "  </thead>\n",
       "  <tbody>\n",
       "    <tr>\n",
       "      <th>0</th>\n",
       "      <td>100520</td>\n",
       "      <td>2023-03-13 18:29:00</td>\n",
       "    </tr>\n",
       "    <tr>\n",
       "      <th>1</th>\n",
       "      <td>100522</td>\n",
       "      <td>2023-03-13 22:15:00</td>\n",
       "    </tr>\n",
       "    <tr>\n",
       "      <th>2</th>\n",
       "      <td>100525</td>\n",
       "      <td>2023-03-14 10:01:00</td>\n",
       "    </tr>\n",
       "    <tr>\n",
       "      <th>3</th>\n",
       "      <td>100527</td>\n",
       "      <td>2023-03-13 14:14:00</td>\n",
       "    </tr>\n",
       "    <tr>\n",
       "      <th>4</th>\n",
       "      <td>100538</td>\n",
       "      <td>2023-03-21 12:23:00</td>\n",
       "    </tr>\n",
       "  </tbody>\n",
       "</table>\n",
       "</div>"
      ],
      "text/plain": [
       "   Session ID Session Log In Time\n",
       "0      100520 2023-03-13 18:29:00\n",
       "1      100522 2023-03-13 22:15:00\n",
       "2      100525 2023-03-14 10:01:00\n",
       "3      100527 2023-03-13 14:14:00\n",
       "4      100538 2023-03-21 12:23:00"
      ]
     },
     "execution_count": 5,
     "metadata": {},
     "output_type": "execute_result"
    }
   ],
   "source": [
    "session_data.head()"
   ]
  },
  {
   "cell_type": "markdown",
   "metadata": {},
   "source": [
    "## 3. Clean Data"
   ]
  },
  {
   "cell_type": "markdown",
   "metadata": {},
   "source": [
    "### a. Convert Data Types"
   ]
  },
  {
   "cell_type": "markdown",
   "metadata": {},
   "source": [
    "Check the data types of the data in the tables and convert to numeric and datetime values as necessary."
   ]
  },
  {
   "cell_type": "code",
   "execution_count": 6,
   "metadata": {
    "scrolled": true
   },
   "outputs": [
    {
     "name": "stdout",
     "output_type": "stream",
     "text": [
      "<class 'pandas.core.frame.DataFrame'>\n",
      "RangeIndex: 30 entries, 0 to 29\n",
      "Data columns (total 8 columns):\n",
      " #   Column             Non-Null Count  Dtype \n",
      "---  ------             --------------  ----- \n",
      " 0   Customer ID        30 non-null     int64 \n",
      " 1   Customer Name      30 non-null     object\n",
      " 2   Email              30 non-null     object\n",
      " 3   Member Since       30 non-null     object\n",
      " 4   Subscription Plan  25 non-null     object\n",
      " 5   Subscription Rate  30 non-null     object\n",
      " 6   Discount?          7 non-null      object\n",
      " 7   Cancellation Date  13 non-null     object\n",
      "dtypes: int64(1), object(7)\n",
      "memory usage: 2.0+ KB\n"
     ]
    }
   ],
   "source": [
    "customer_data.info()"
   ]
  },
  {
   "cell_type": "code",
   "execution_count": 7,
   "metadata": {},
   "outputs": [
    {
     "name": "stdout",
     "output_type": "stream",
     "text": [
      "<class 'pandas.core.frame.DataFrame'>\n",
      "RangeIndex: 505 entries, 0 to 504\n",
      "Data columns (total 5 columns):\n",
      " #   Column       Non-Null Count  Dtype \n",
      "---  ------       --------------  ----- \n",
      " 0   Customer ID  505 non-null    int64 \n",
      " 1   Session ID   505 non-null    int64 \n",
      " 2   Audio Order  505 non-null    int64 \n",
      " 3   Audio ID     505 non-null    int64 \n",
      " 4   Audio Type   505 non-null    object\n",
      "dtypes: int64(4), object(1)\n",
      "memory usage: 19.9+ KB\n"
     ]
    }
   ],
   "source": [
    "listening_history.info()"
   ]
  },
  {
   "cell_type": "code",
   "execution_count": 8,
   "metadata": {},
   "outputs": [
    {
     "name": "stdout",
     "output_type": "stream",
     "text": [
      "<class 'pandas.core.frame.DataFrame'>\n",
      "RangeIndex: 17 entries, 0 to 16\n",
      "Data columns (total 4 columns):\n",
      " #   Column      Non-Null Count  Dtype \n",
      "---  ------      --------------  ----- \n",
      " 0   ID          17 non-null     object\n",
      " 1   Name        17 non-null     object\n",
      " 2   Genre       17 non-null     object\n",
      " 3   Popularity  17 non-null     int64 \n",
      "dtypes: int64(1), object(3)\n",
      "memory usage: 672.0+ bytes\n"
     ]
    }
   ],
   "source": [
    "audio_data.info()"
   ]
  },
  {
   "cell_type": "code",
   "execution_count": 9,
   "metadata": {},
   "outputs": [
    {
     "name": "stdout",
     "output_type": "stream",
     "text": [
      "<class 'pandas.core.frame.DataFrame'>\n",
      "RangeIndex: 90 entries, 0 to 89\n",
      "Data columns (total 2 columns):\n",
      " #   Column               Non-Null Count  Dtype         \n",
      "---  ------               --------------  -----         \n",
      " 0   Session ID           90 non-null     int64         \n",
      " 1   Session Log In Time  90 non-null     datetime64[ns]\n",
      "dtypes: datetime64[ns](1), int64(1)\n",
      "memory usage: 1.5 KB\n"
     ]
    }
   ],
   "source": [
    "session_data.info()"
   ]
  },
  {
   "cell_type": "code",
   "execution_count": 10,
   "metadata": {},
   "outputs": [
    {
     "name": "stderr",
     "output_type": "stream",
     "text": [
      "C:\\Users\\tamar\\AppData\\Local\\Temp\\ipykernel_18072\\1322217258.py:3: FutureWarning: The default value of regex will change from True to False in a future version. In addition, single character regular expressions will *not* be treated as literal strings when regex=True.\n",
      "  customer_data['Subscription Rate'] = pd.to_numeric(customer_data['Subscription Rate'].str.replace(\"$\", \"\"))\n"
     ]
    }
   ],
   "source": [
    "customer_data['Member Since'] = pd.to_datetime(customer_data['Member Since'])\n",
    "customer_data['Cancellation Date'] = pd.to_datetime(customer_data['Cancellation Date'])\n",
    "customer_data['Subscription Rate'] = pd.to_numeric(customer_data['Subscription Rate'].str.replace(\"$\", \"\"))"
   ]
  },
  {
   "cell_type": "markdown",
   "metadata": {},
   "source": [
    "### b. Resolve Data Issues"
   ]
  },
  {
   "cell_type": "markdown",
   "metadata": {},
   "source": [
    "Check for missing data, inconsistent text and typos, duplicate data and outliers."
   ]
  },
  {
   "cell_type": "markdown",
   "metadata": {},
   "source": [
    "#### i. Missing Data"
   ]
  },
  {
   "cell_type": "code",
   "execution_count": 11,
   "metadata": {},
   "outputs": [],
   "source": [
    "# Look for NaN values in the data\n",
    "customer_data['Subscription Plan'].fillna(\"Basic (Ads)\", inplace=True)"
   ]
  },
  {
   "cell_type": "code",
   "execution_count": 12,
   "metadata": {},
   "outputs": [],
   "source": [
    "customer_data['Discount?'] = np.where(customer_data['Discount?'] == 'Yes', 1, 0)"
   ]
  },
  {
   "cell_type": "code",
   "execution_count": 13,
   "metadata": {},
   "outputs": [
    {
     "name": "stdout",
     "output_type": "stream",
     "text": [
      "<class 'pandas.core.frame.DataFrame'>\n",
      "RangeIndex: 30 entries, 0 to 29\n",
      "Data columns (total 8 columns):\n",
      " #   Column             Non-Null Count  Dtype         \n",
      "---  ------             --------------  -----         \n",
      " 0   Customer ID        30 non-null     int64         \n",
      " 1   Customer Name      30 non-null     object        \n",
      " 2   Email              30 non-null     object        \n",
      " 3   Member Since       30 non-null     datetime64[ns]\n",
      " 4   Subscription Plan  30 non-null     object        \n",
      " 5   Subscription Rate  30 non-null     float64       \n",
      " 6   Discount?          30 non-null     int32         \n",
      " 7   Cancellation Date  13 non-null     datetime64[ns]\n",
      "dtypes: datetime64[ns](2), float64(1), int32(1), int64(1), object(3)\n",
      "memory usage: 1.9+ KB\n"
     ]
    }
   ],
   "source": [
    "customer_data.info()"
   ]
  },
  {
   "cell_type": "markdown",
   "metadata": {},
   "source": [
    "#### ii. Inconsistent Text & Typos & Outliers   "
   ]
  },
  {
   "cell_type": "code",
   "execution_count": 14,
   "metadata": {},
   "outputs": [
    {
     "data": {
      "text/html": [
       "<div>\n",
       "<style scoped>\n",
       "    .dataframe tbody tr th:only-of-type {\n",
       "        vertical-align: middle;\n",
       "    }\n",
       "\n",
       "    .dataframe tbody tr th {\n",
       "        vertical-align: top;\n",
       "    }\n",
       "\n",
       "    .dataframe thead th {\n",
       "        text-align: right;\n",
       "    }\n",
       "</style>\n",
       "<table border=\"1\" class=\"dataframe\">\n",
       "  <thead>\n",
       "    <tr style=\"text-align: right;\">\n",
       "      <th></th>\n",
       "      <th>Customer ID</th>\n",
       "      <th>Subscription Rate</th>\n",
       "      <th>Discount?</th>\n",
       "    </tr>\n",
       "  </thead>\n",
       "  <tbody>\n",
       "    <tr>\n",
       "      <th>count</th>\n",
       "      <td>30.000000</td>\n",
       "      <td>30.000000</td>\n",
       "      <td>30.000000</td>\n",
       "    </tr>\n",
       "    <tr>\n",
       "      <th>mean</th>\n",
       "      <td>6276.333333</td>\n",
       "      <td>8.556667</td>\n",
       "      <td>0.233333</td>\n",
       "    </tr>\n",
       "    <tr>\n",
       "      <th>std</th>\n",
       "      <td>814.255587</td>\n",
       "      <td>17.517840</td>\n",
       "      <td>0.430183</td>\n",
       "    </tr>\n",
       "    <tr>\n",
       "      <th>min</th>\n",
       "      <td>5001.000000</td>\n",
       "      <td>2.990000</td>\n",
       "      <td>0.000000</td>\n",
       "    </tr>\n",
       "    <tr>\n",
       "      <th>25%</th>\n",
       "      <td>5759.500000</td>\n",
       "      <td>2.990000</td>\n",
       "      <td>0.000000</td>\n",
       "    </tr>\n",
       "    <tr>\n",
       "      <th>50%</th>\n",
       "      <td>6196.000000</td>\n",
       "      <td>2.990000</td>\n",
       "      <td>0.000000</td>\n",
       "    </tr>\n",
       "    <tr>\n",
       "      <th>75%</th>\n",
       "      <td>6823.500000</td>\n",
       "      <td>7.990000</td>\n",
       "      <td>0.000000</td>\n",
       "    </tr>\n",
       "    <tr>\n",
       "      <th>max</th>\n",
       "      <td>7583.000000</td>\n",
       "      <td>99.990000</td>\n",
       "      <td>1.000000</td>\n",
       "    </tr>\n",
       "  </tbody>\n",
       "</table>\n",
       "</div>"
      ],
      "text/plain": [
       "       Customer ID  Subscription Rate  Discount?\n",
       "count    30.000000          30.000000  30.000000\n",
       "mean   6276.333333           8.556667   0.233333\n",
       "std     814.255587          17.517840   0.430183\n",
       "min    5001.000000           2.990000   0.000000\n",
       "25%    5759.500000           2.990000   0.000000\n",
       "50%    6196.000000           2.990000   0.000000\n",
       "75%    6823.500000           7.990000   0.000000\n",
       "max    7583.000000          99.990000   1.000000"
      ]
     },
     "execution_count": 14,
     "metadata": {},
     "output_type": "execute_result"
    }
   ],
   "source": [
    "customer_data.describe()"
   ]
  },
  {
   "cell_type": "code",
   "execution_count": 15,
   "metadata": {},
   "outputs": [
    {
     "data": {
      "text/html": [
       "<div>\n",
       "<style scoped>\n",
       "    .dataframe tbody tr th:only-of-type {\n",
       "        vertical-align: middle;\n",
       "    }\n",
       "\n",
       "    .dataframe tbody tr th {\n",
       "        vertical-align: top;\n",
       "    }\n",
       "\n",
       "    .dataframe thead th {\n",
       "        text-align: right;\n",
       "    }\n",
       "</style>\n",
       "<table border=\"1\" class=\"dataframe\">\n",
       "  <thead>\n",
       "    <tr style=\"text-align: right;\">\n",
       "      <th></th>\n",
       "      <th>Customer ID</th>\n",
       "      <th>Customer Name</th>\n",
       "      <th>Email</th>\n",
       "      <th>Member Since</th>\n",
       "      <th>Subscription Plan</th>\n",
       "      <th>Subscription Rate</th>\n",
       "      <th>Discount?</th>\n",
       "      <th>Cancellation Date</th>\n",
       "    </tr>\n",
       "  </thead>\n",
       "  <tbody>\n",
       "    <tr>\n",
       "      <th>6</th>\n",
       "      <td>5581</td>\n",
       "      <td>Reed Sharp</td>\n",
       "      <td>Email: sharp.tunes@email.com</td>\n",
       "      <td>2023-03-21</td>\n",
       "      <td>Premium (No Ads)</td>\n",
       "      <td>9.99</td>\n",
       "      <td>0</td>\n",
       "      <td>NaT</td>\n",
       "    </tr>\n",
       "    <tr>\n",
       "      <th>7</th>\n",
       "      <td>5759</td>\n",
       "      <td>Carol Kingbird</td>\n",
       "      <td>Email: songbird.carol@email.com</td>\n",
       "      <td>2023-03-22</td>\n",
       "      <td>Premium (No Ads)</td>\n",
       "      <td>9.99</td>\n",
       "      <td>0</td>\n",
       "      <td>2023-06-02</td>\n",
       "    </tr>\n",
       "    <tr>\n",
       "      <th>8</th>\n",
       "      <td>5761</td>\n",
       "      <td>Sonata Nash</td>\n",
       "      <td>Email: musical.sonata@email.com</td>\n",
       "      <td>2023-03-28</td>\n",
       "      <td>Premium (No Ads)</td>\n",
       "      <td>9.99</td>\n",
       "      <td>0</td>\n",
       "      <td>NaT</td>\n",
       "    </tr>\n",
       "    <tr>\n",
       "      <th>12</th>\n",
       "      <td>6029</td>\n",
       "      <td>Chord Campbell</td>\n",
       "      <td>Email: campbell.chordify@email.com</td>\n",
       "      <td>2023-03-29</td>\n",
       "      <td>Premium (No Ads)</td>\n",
       "      <td>9.99</td>\n",
       "      <td>0</td>\n",
       "      <td>2023-06-02</td>\n",
       "    </tr>\n",
       "    <tr>\n",
       "      <th>14</th>\n",
       "      <td>6163</td>\n",
       "      <td>Melody Parks</td>\n",
       "      <td>Email: park.of.melodies@email.com</td>\n",
       "      <td>2023-04-05</td>\n",
       "      <td>Premium (No Ads)</td>\n",
       "      <td>9.99</td>\n",
       "      <td>0</td>\n",
       "      <td>NaT</td>\n",
       "    </tr>\n",
       "    <tr>\n",
       "      <th>15</th>\n",
       "      <td>6229</td>\n",
       "      <td>Symphony Rhodes</td>\n",
       "      <td>Email: rhodes.symphony@email.com</td>\n",
       "      <td>2023-04-06</td>\n",
       "      <td>Premium (No Ads)</td>\n",
       "      <td>99.99</td>\n",
       "      <td>0</td>\n",
       "      <td>2023-06-02</td>\n",
       "    </tr>\n",
       "  </tbody>\n",
       "</table>\n",
       "</div>"
      ],
      "text/plain": [
       "    Customer ID    Customer Name                               Email  \\\n",
       "6          5581       Reed Sharp        Email: sharp.tunes@email.com   \n",
       "7          5759   Carol Kingbird     Email: songbird.carol@email.com   \n",
       "8          5761      Sonata Nash     Email: musical.sonata@email.com   \n",
       "12         6029   Chord Campbell  Email: campbell.chordify@email.com   \n",
       "14         6163     Melody Parks   Email: park.of.melodies@email.com   \n",
       "15         6229  Symphony Rhodes    Email: rhodes.symphony@email.com   \n",
       "\n",
       "   Member Since Subscription Plan  Subscription Rate  Discount?  \\\n",
       "6    2023-03-21  Premium (No Ads)               9.99          0   \n",
       "7    2023-03-22  Premium (No Ads)               9.99          0   \n",
       "8    2023-03-28  Premium (No Ads)               9.99          0   \n",
       "12   2023-03-29  Premium (No Ads)               9.99          0   \n",
       "14   2023-04-05  Premium (No Ads)               9.99          0   \n",
       "15   2023-04-06  Premium (No Ads)              99.99          0   \n",
       "\n",
       "   Cancellation Date  \n",
       "6                NaT  \n",
       "7         2023-06-02  \n",
       "8                NaT  \n",
       "12        2023-06-02  \n",
       "14               NaT  \n",
       "15        2023-06-02  "
      ]
     },
     "execution_count": 15,
     "metadata": {},
     "output_type": "execute_result"
    }
   ],
   "source": [
    "customer_data[customer_data['Subscription Rate'] > 7.99]"
   ]
  },
  {
   "cell_type": "code",
   "execution_count": 16,
   "metadata": {},
   "outputs": [],
   "source": [
    "customer_data.iloc[15, 5] = 9.99"
   ]
  },
  {
   "cell_type": "code",
   "execution_count": 17,
   "metadata": {},
   "outputs": [
    {
     "data": {
      "text/html": [
       "<div>\n",
       "<style scoped>\n",
       "    .dataframe tbody tr th:only-of-type {\n",
       "        vertical-align: middle;\n",
       "    }\n",
       "\n",
       "    .dataframe tbody tr th {\n",
       "        vertical-align: top;\n",
       "    }\n",
       "\n",
       "    .dataframe thead th {\n",
       "        text-align: right;\n",
       "    }\n",
       "</style>\n",
       "<table border=\"1\" class=\"dataframe\">\n",
       "  <thead>\n",
       "    <tr style=\"text-align: right;\">\n",
       "      <th></th>\n",
       "      <th>Customer ID</th>\n",
       "      <th>Subscription Rate</th>\n",
       "      <th>Discount?</th>\n",
       "    </tr>\n",
       "  </thead>\n",
       "  <tbody>\n",
       "    <tr>\n",
       "      <th>count</th>\n",
       "      <td>30.000000</td>\n",
       "      <td>30.000000</td>\n",
       "      <td>30.000000</td>\n",
       "    </tr>\n",
       "    <tr>\n",
       "      <th>mean</th>\n",
       "      <td>6276.333333</td>\n",
       "      <td>5.556667</td>\n",
       "      <td>0.233333</td>\n",
       "    </tr>\n",
       "    <tr>\n",
       "      <th>std</th>\n",
       "      <td>814.255587</td>\n",
       "      <td>3.058998</td>\n",
       "      <td>0.430183</td>\n",
       "    </tr>\n",
       "    <tr>\n",
       "      <th>min</th>\n",
       "      <td>5001.000000</td>\n",
       "      <td>2.990000</td>\n",
       "      <td>0.000000</td>\n",
       "    </tr>\n",
       "    <tr>\n",
       "      <th>25%</th>\n",
       "      <td>5759.500000</td>\n",
       "      <td>2.990000</td>\n",
       "      <td>0.000000</td>\n",
       "    </tr>\n",
       "    <tr>\n",
       "      <th>50%</th>\n",
       "      <td>6196.000000</td>\n",
       "      <td>2.990000</td>\n",
       "      <td>0.000000</td>\n",
       "    </tr>\n",
       "    <tr>\n",
       "      <th>75%</th>\n",
       "      <td>6823.500000</td>\n",
       "      <td>7.990000</td>\n",
       "      <td>0.000000</td>\n",
       "    </tr>\n",
       "    <tr>\n",
       "      <th>max</th>\n",
       "      <td>7583.000000</td>\n",
       "      <td>9.990000</td>\n",
       "      <td>1.000000</td>\n",
       "    </tr>\n",
       "  </tbody>\n",
       "</table>\n",
       "</div>"
      ],
      "text/plain": [
       "       Customer ID  Subscription Rate  Discount?\n",
       "count    30.000000          30.000000  30.000000\n",
       "mean   6276.333333           5.556667   0.233333\n",
       "std     814.255587           3.058998   0.430183\n",
       "min    5001.000000           2.990000   0.000000\n",
       "25%    5759.500000           2.990000   0.000000\n",
       "50%    6196.000000           2.990000   0.000000\n",
       "75%    6823.500000           7.990000   0.000000\n",
       "max    7583.000000           9.990000   1.000000"
      ]
     },
     "execution_count": 17,
     "metadata": {},
     "output_type": "execute_result"
    }
   ],
   "source": [
    "customer_data.describe()"
   ]
  },
  {
   "cell_type": "code",
   "execution_count": 18,
   "metadata": {},
   "outputs": [
    {
     "data": {
      "text/html": [
       "<div>\n",
       "<style scoped>\n",
       "    .dataframe tbody tr th:only-of-type {\n",
       "        vertical-align: middle;\n",
       "    }\n",
       "\n",
       "    .dataframe tbody tr th {\n",
       "        vertical-align: top;\n",
       "    }\n",
       "\n",
       "    .dataframe thead th {\n",
       "        text-align: right;\n",
       "    }\n",
       "</style>\n",
       "<table border=\"1\" class=\"dataframe\">\n",
       "  <thead>\n",
       "    <tr style=\"text-align: right;\">\n",
       "      <th></th>\n",
       "      <th>Popularity</th>\n",
       "    </tr>\n",
       "  </thead>\n",
       "  <tbody>\n",
       "    <tr>\n",
       "      <th>count</th>\n",
       "      <td>17.000000</td>\n",
       "    </tr>\n",
       "    <tr>\n",
       "      <th>mean</th>\n",
       "      <td>21.058824</td>\n",
       "    </tr>\n",
       "    <tr>\n",
       "      <th>std</th>\n",
       "      <td>23.381271</td>\n",
       "    </tr>\n",
       "    <tr>\n",
       "      <th>min</th>\n",
       "      <td>1.000000</td>\n",
       "    </tr>\n",
       "    <tr>\n",
       "      <th>25%</th>\n",
       "      <td>4.000000</td>\n",
       "    </tr>\n",
       "    <tr>\n",
       "      <th>50%</th>\n",
       "      <td>10.000000</td>\n",
       "    </tr>\n",
       "    <tr>\n",
       "      <th>75%</th>\n",
       "      <td>28.000000</td>\n",
       "    </tr>\n",
       "    <tr>\n",
       "      <th>max</th>\n",
       "      <td>80.000000</td>\n",
       "    </tr>\n",
       "  </tbody>\n",
       "</table>\n",
       "</div>"
      ],
      "text/plain": [
       "       Popularity\n",
       "count   17.000000\n",
       "mean    21.058824\n",
       "std     23.381271\n",
       "min      1.000000\n",
       "25%      4.000000\n",
       "50%     10.000000\n",
       "75%     28.000000\n",
       "max     80.000000"
      ]
     },
     "execution_count": 18,
     "metadata": {},
     "output_type": "execute_result"
    }
   ],
   "source": [
    "audio_data.describe()"
   ]
  },
  {
   "cell_type": "code",
   "execution_count": 19,
   "metadata": {},
   "outputs": [
    {
     "data": {
      "text/html": [
       "<div>\n",
       "<style scoped>\n",
       "    .dataframe tbody tr th:only-of-type {\n",
       "        vertical-align: middle;\n",
       "    }\n",
       "\n",
       "    .dataframe tbody tr th {\n",
       "        vertical-align: top;\n",
       "    }\n",
       "\n",
       "    .dataframe thead th {\n",
       "        text-align: right;\n",
       "    }\n",
       "</style>\n",
       "<table border=\"1\" class=\"dataframe\">\n",
       "  <thead>\n",
       "    <tr style=\"text-align: right;\">\n",
       "      <th></th>\n",
       "      <th>Session ID</th>\n",
       "    </tr>\n",
       "  </thead>\n",
       "  <tbody>\n",
       "    <tr>\n",
       "      <th>count</th>\n",
       "      <td>90.000000</td>\n",
       "    </tr>\n",
       "    <tr>\n",
       "      <th>mean</th>\n",
       "      <td>105619.788889</td>\n",
       "    </tr>\n",
       "    <tr>\n",
       "      <th>std</th>\n",
       "      <td>3616.208569</td>\n",
       "    </tr>\n",
       "    <tr>\n",
       "      <th>min</th>\n",
       "      <td>100520.000000</td>\n",
       "    </tr>\n",
       "    <tr>\n",
       "      <th>25%</th>\n",
       "      <td>102149.000000</td>\n",
       "    </tr>\n",
       "    <tr>\n",
       "      <th>50%</th>\n",
       "      <td>105390.500000</td>\n",
       "    </tr>\n",
       "    <tr>\n",
       "      <th>75%</th>\n",
       "      <td>109658.250000</td>\n",
       "    </tr>\n",
       "    <tr>\n",
       "      <th>max</th>\n",
       "      <td>111333.000000</td>\n",
       "    </tr>\n",
       "  </tbody>\n",
       "</table>\n",
       "</div>"
      ],
      "text/plain": [
       "          Session ID\n",
       "count      90.000000\n",
       "mean   105619.788889\n",
       "std      3616.208569\n",
       "min    100520.000000\n",
       "25%    102149.000000\n",
       "50%    105390.500000\n",
       "75%    109658.250000\n",
       "max    111333.000000"
      ]
     },
     "execution_count": 19,
     "metadata": {},
     "output_type": "execute_result"
    }
   ],
   "source": [
    "session_data.describe()"
   ]
  },
  {
   "cell_type": "code",
   "execution_count": 20,
   "metadata": {
    "scrolled": true
   },
   "outputs": [
    {
     "data": {
      "text/html": [
       "<div>\n",
       "<style scoped>\n",
       "    .dataframe tbody tr th:only-of-type {\n",
       "        vertical-align: middle;\n",
       "    }\n",
       "\n",
       "    .dataframe tbody tr th {\n",
       "        vertical-align: top;\n",
       "    }\n",
       "\n",
       "    .dataframe thead th {\n",
       "        text-align: right;\n",
       "    }\n",
       "</style>\n",
       "<table border=\"1\" class=\"dataframe\">\n",
       "  <thead>\n",
       "    <tr style=\"text-align: right;\">\n",
       "      <th></th>\n",
       "      <th>Customer ID</th>\n",
       "      <th>Session ID</th>\n",
       "      <th>Audio Order</th>\n",
       "      <th>Audio ID</th>\n",
       "    </tr>\n",
       "  </thead>\n",
       "  <tbody>\n",
       "    <tr>\n",
       "      <th>count</th>\n",
       "      <td>505.000000</td>\n",
       "      <td>505.000000</td>\n",
       "      <td>505.000000</td>\n",
       "      <td>505.000000</td>\n",
       "    </tr>\n",
       "    <tr>\n",
       "      <th>mean</th>\n",
       "      <td>6112.247525</td>\n",
       "      <td>105225.554455</td>\n",
       "      <td>4.138614</td>\n",
       "      <td>112.063366</td>\n",
       "    </tr>\n",
       "    <tr>\n",
       "      <th>std</th>\n",
       "      <td>832.861221</td>\n",
       "      <td>3625.879577</td>\n",
       "      <td>2.669008</td>\n",
       "      <td>24.670285</td>\n",
       "    </tr>\n",
       "    <tr>\n",
       "      <th>min</th>\n",
       "      <td>5001.000000</td>\n",
       "      <td>100520.000000</td>\n",
       "      <td>1.000000</td>\n",
       "      <td>101.000000</td>\n",
       "    </tr>\n",
       "    <tr>\n",
       "      <th>25%</th>\n",
       "      <td>5267.000000</td>\n",
       "      <td>101925.000000</td>\n",
       "      <td>2.000000</td>\n",
       "      <td>103.000000</td>\n",
       "    </tr>\n",
       "    <tr>\n",
       "      <th>50%</th>\n",
       "      <td>6029.000000</td>\n",
       "      <td>105116.000000</td>\n",
       "      <td>4.000000</td>\n",
       "      <td>105.000000</td>\n",
       "    </tr>\n",
       "    <tr>\n",
       "      <th>75%</th>\n",
       "      <td>6822.000000</td>\n",
       "      <td>109654.000000</td>\n",
       "      <td>6.000000</td>\n",
       "      <td>109.000000</td>\n",
       "    </tr>\n",
       "    <tr>\n",
       "      <th>max</th>\n",
       "      <td>7583.000000</td>\n",
       "      <td>111333.000000</td>\n",
       "      <td>15.000000</td>\n",
       "      <td>205.000000</td>\n",
       "    </tr>\n",
       "  </tbody>\n",
       "</table>\n",
       "</div>"
      ],
      "text/plain": [
       "       Customer ID     Session ID  Audio Order    Audio ID\n",
       "count   505.000000     505.000000   505.000000  505.000000\n",
       "mean   6112.247525  105225.554455     4.138614  112.063366\n",
       "std     832.861221    3625.879577     2.669008   24.670285\n",
       "min    5001.000000  100520.000000     1.000000  101.000000\n",
       "25%    5267.000000  101925.000000     2.000000  103.000000\n",
       "50%    6029.000000  105116.000000     4.000000  105.000000\n",
       "75%    6822.000000  109654.000000     6.000000  109.000000\n",
       "max    7583.000000  111333.000000    15.000000  205.000000"
      ]
     },
     "execution_count": 20,
     "metadata": {},
     "output_type": "execute_result"
    }
   ],
   "source": [
    "listening_history.describe()"
   ]
  },
  {
   "cell_type": "code",
   "execution_count": 21,
   "metadata": {},
   "outputs": [
    {
     "data": {
      "text/html": [
       "<div>\n",
       "<style scoped>\n",
       "    .dataframe tbody tr th:only-of-type {\n",
       "        vertical-align: middle;\n",
       "    }\n",
       "\n",
       "    .dataframe tbody tr th {\n",
       "        vertical-align: top;\n",
       "    }\n",
       "\n",
       "    .dataframe thead th {\n",
       "        text-align: right;\n",
       "    }\n",
       "</style>\n",
       "<table border=\"1\" class=\"dataframe\">\n",
       "  <thead>\n",
       "    <tr style=\"text-align: right;\">\n",
       "      <th></th>\n",
       "      <th>ID</th>\n",
       "      <th>Name</th>\n",
       "      <th>Genre</th>\n",
       "      <th>Popularity</th>\n",
       "    </tr>\n",
       "  </thead>\n",
       "  <tbody>\n",
       "    <tr>\n",
       "      <th>0</th>\n",
       "      <td>Song-101</td>\n",
       "      <td>Dance All Night</td>\n",
       "      <td>Pop</td>\n",
       "      <td>1</td>\n",
       "    </tr>\n",
       "    <tr>\n",
       "      <th>1</th>\n",
       "      <td>Song-102</td>\n",
       "      <td>Unbreakable Beat</td>\n",
       "      <td>Pop</td>\n",
       "      <td>2</td>\n",
       "    </tr>\n",
       "    <tr>\n",
       "      <th>2</th>\n",
       "      <td>Song-103</td>\n",
       "      <td>Sunset Boulevard</td>\n",
       "      <td>Pop Music</td>\n",
       "      <td>5</td>\n",
       "    </tr>\n",
       "    <tr>\n",
       "      <th>3</th>\n",
       "      <td>Song-104</td>\n",
       "      <td>Glowing Hearts</td>\n",
       "      <td>Pop Music</td>\n",
       "      <td>10</td>\n",
       "    </tr>\n",
       "    <tr>\n",
       "      <th>4</th>\n",
       "      <td>Song-105</td>\n",
       "      <td>Pop Rocks</td>\n",
       "      <td>Pop Music</td>\n",
       "      <td>52</td>\n",
       "    </tr>\n",
       "  </tbody>\n",
       "</table>\n",
       "</div>"
      ],
      "text/plain": [
       "         ID              Name      Genre  Popularity\n",
       "0  Song-101   Dance All Night        Pop           1\n",
       "1  Song-102  Unbreakable Beat        Pop           2\n",
       "2  Song-103  Sunset Boulevard  Pop Music           5\n",
       "3  Song-104    Glowing Hearts  Pop Music          10\n",
       "4  Song-105         Pop Rocks  Pop Music          52"
      ]
     },
     "execution_count": 21,
     "metadata": {},
     "output_type": "execute_result"
    }
   ],
   "source": [
    "audio_data.head()"
   ]
  },
  {
   "cell_type": "code",
   "execution_count": 22,
   "metadata": {
    "scrolled": true
   },
   "outputs": [
    {
     "data": {
      "text/plain": [
       "Pop Music     3\n",
       "Hip Hop       3\n",
       "Comedy        3\n",
       "Pop           2\n",
       "Country       2\n",
       "Jazz          2\n",
       "True Crime    2\n",
       "Name: Genre, dtype: int64"
      ]
     },
     "execution_count": 22,
     "metadata": {},
     "output_type": "execute_result"
    }
   ],
   "source": [
    "audio_data['Genre'].value_counts()"
   ]
  },
  {
   "cell_type": "code",
   "execution_count": 23,
   "metadata": {},
   "outputs": [],
   "source": [
    "audio_data['Genre'] = np.where(audio_data['Genre'] == 'Pop Music', 'Pop', audio_data['Genre'])"
   ]
  },
  {
   "cell_type": "code",
   "execution_count": 24,
   "metadata": {},
   "outputs": [
    {
     "data": {
      "text/plain": [
       "2     2\n",
       "4     2\n",
       "1     1\n",
       "5     1\n",
       "8     1\n",
       "9     1\n",
       "10    1\n",
       "17    1\n",
       "20    1\n",
       "23    1\n",
       "28    1\n",
       "30    1\n",
       "52    1\n",
       "63    1\n",
       "80    1\n",
       "Name: Popularity, dtype: int64"
      ]
     },
     "execution_count": 24,
     "metadata": {},
     "output_type": "execute_result"
    }
   ],
   "source": [
    "audio_data['Popularity'].sort_values().value_counts()"
   ]
  },
  {
   "cell_type": "code",
   "execution_count": 25,
   "metadata": {},
   "outputs": [],
   "source": [
    "audio_data[['Audio Type', 'Audio ID']] = audio_data['ID'].str.split(\"-\", expand=True)\n",
    "audio_data.drop(columns = 'ID', inplace=True)"
   ]
  },
  {
   "cell_type": "code",
   "execution_count": 26,
   "metadata": {},
   "outputs": [],
   "source": [
    "audio_data['Audio ID'] = pd.to_numeric(audio_data['Audio ID'])"
   ]
  },
  {
   "cell_type": "code",
   "execution_count": 27,
   "metadata": {},
   "outputs": [
    {
     "name": "stdout",
     "output_type": "stream",
     "text": [
      "<class 'pandas.core.frame.DataFrame'>\n",
      "RangeIndex: 17 entries, 0 to 16\n",
      "Data columns (total 5 columns):\n",
      " #   Column      Non-Null Count  Dtype \n",
      "---  ------      --------------  ----- \n",
      " 0   Name        17 non-null     object\n",
      " 1   Genre       17 non-null     object\n",
      " 2   Popularity  17 non-null     int64 \n",
      " 3   Audio Type  17 non-null     object\n",
      " 4   Audio ID    17 non-null     int64 \n",
      "dtypes: int64(2), object(3)\n",
      "memory usage: 808.0+ bytes\n"
     ]
    }
   ],
   "source": [
    "audio_data.info()"
   ]
  },
  {
   "cell_type": "markdown",
   "metadata": {},
   "source": [
    "#### iii. Duplicate Rows"
   ]
  },
  {
   "cell_type": "code",
   "execution_count": 28,
   "metadata": {},
   "outputs": [
    {
     "data": {
      "text/plain": [
       "False    17\n",
       "dtype: int64"
      ]
     },
     "execution_count": 28,
     "metadata": {},
     "output_type": "execute_result"
    }
   ],
   "source": [
    "audio_data.duplicated().value_counts()"
   ]
  },
  {
   "cell_type": "code",
   "execution_count": 29,
   "metadata": {},
   "outputs": [
    {
     "data": {
      "text/plain": [
       "False    30\n",
       "dtype: int64"
      ]
     },
     "execution_count": 29,
     "metadata": {},
     "output_type": "execute_result"
    }
   ],
   "source": [
    "customer_data.duplicated().value_counts()"
   ]
  },
  {
   "cell_type": "code",
   "execution_count": 30,
   "metadata": {},
   "outputs": [
    {
     "data": {
      "text/plain": [
       "False    90\n",
       "dtype: int64"
      ]
     },
     "execution_count": 30,
     "metadata": {},
     "output_type": "execute_result"
    }
   ],
   "source": [
    "session_data.duplicated().value_counts()"
   ]
  },
  {
   "cell_type": "code",
   "execution_count": 31,
   "metadata": {},
   "outputs": [
    {
     "data": {
      "text/plain": [
       "False    505\n",
       "dtype: int64"
      ]
     },
     "execution_count": 31,
     "metadata": {},
     "output_type": "execute_result"
    }
   ],
   "source": [
    "listening_history.duplicated().value_counts()"
   ]
  },
  {
   "cell_type": "markdown",
   "metadata": {},
   "source": [
    "### c. Create New Columns"
   ]
  },
  {
   "cell_type": "markdown",
   "metadata": {},
   "source": [
    "Create two new columns that will be useful for EDA and modeling:\n",
    "* Cancelled: whether a customer cancelled or not\n",
    "* Email: Remove the \"Email:\" from the email addresses"
   ]
  },
  {
   "cell_type": "code",
   "execution_count": 32,
   "metadata": {
    "scrolled": true
   },
   "outputs": [
    {
     "name": "stdout",
     "output_type": "stream",
     "text": [
      "<class 'pandas.core.frame.DataFrame'>\n",
      "RangeIndex: 30 entries, 0 to 29\n",
      "Data columns (total 8 columns):\n",
      " #   Column             Non-Null Count  Dtype         \n",
      "---  ------             --------------  -----         \n",
      " 0   Customer ID        30 non-null     int64         \n",
      " 1   Customer Name      30 non-null     object        \n",
      " 2   Email              30 non-null     object        \n",
      " 3   Member Since       30 non-null     datetime64[ns]\n",
      " 4   Subscription Plan  30 non-null     object        \n",
      " 5   Subscription Rate  30 non-null     float64       \n",
      " 6   Discount?          30 non-null     int32         \n",
      " 7   Cancellation Date  13 non-null     datetime64[ns]\n",
      "dtypes: datetime64[ns](2), float64(1), int32(1), int64(1), object(3)\n",
      "memory usage: 1.9+ KB\n"
     ]
    }
   ],
   "source": [
    "customer_data.info()"
   ]
  },
  {
   "cell_type": "code",
   "execution_count": 33,
   "metadata": {},
   "outputs": [],
   "source": [
    "customer_data['Cancelled'] = np.where(customer_data['Cancellation Date'].notna(), '1', '0')\n",
    "customer_data['Cancelled'] = pd.to_numeric(customer_data['Cancelled'])"
   ]
  },
  {
   "cell_type": "code",
   "execution_count": 34,
   "metadata": {},
   "outputs": [
    {
     "data": {
      "text/html": [
       "<div>\n",
       "<style scoped>\n",
       "    .dataframe tbody tr th:only-of-type {\n",
       "        vertical-align: middle;\n",
       "    }\n",
       "\n",
       "    .dataframe tbody tr th {\n",
       "        vertical-align: top;\n",
       "    }\n",
       "\n",
       "    .dataframe thead th {\n",
       "        text-align: right;\n",
       "    }\n",
       "</style>\n",
       "<table border=\"1\" class=\"dataframe\">\n",
       "  <thead>\n",
       "    <tr style=\"text-align: right;\">\n",
       "      <th></th>\n",
       "      <th>Customer ID</th>\n",
       "      <th>Customer Name</th>\n",
       "      <th>Email</th>\n",
       "      <th>Member Since</th>\n",
       "      <th>Subscription Plan</th>\n",
       "      <th>Subscription Rate</th>\n",
       "      <th>Discount?</th>\n",
       "      <th>Cancellation Date</th>\n",
       "      <th>Cancelled</th>\n",
       "    </tr>\n",
       "  </thead>\n",
       "  <tbody>\n",
       "    <tr>\n",
       "      <th>0</th>\n",
       "      <td>5001</td>\n",
       "      <td>Harmony Greene</td>\n",
       "      <td>Email: harmonious.vibes@email.com</td>\n",
       "      <td>2023-03-13</td>\n",
       "      <td>Basic (Ads)</td>\n",
       "      <td>2.99</td>\n",
       "      <td>0</td>\n",
       "      <td>NaT</td>\n",
       "      <td>0</td>\n",
       "    </tr>\n",
       "    <tr>\n",
       "      <th>1</th>\n",
       "      <td>5002</td>\n",
       "      <td>Aria Keys</td>\n",
       "      <td>Email: melodious.aria@email.edu</td>\n",
       "      <td>2023-03-13</td>\n",
       "      <td>Basic (Ads)</td>\n",
       "      <td>2.99</td>\n",
       "      <td>0</td>\n",
       "      <td>NaT</td>\n",
       "      <td>0</td>\n",
       "    </tr>\n",
       "    <tr>\n",
       "      <th>2</th>\n",
       "      <td>5004</td>\n",
       "      <td>Lyric Bell</td>\n",
       "      <td>Email: rhythmical.lyric@email.com</td>\n",
       "      <td>2023-03-13</td>\n",
       "      <td>Basic (Ads)</td>\n",
       "      <td>2.99</td>\n",
       "      <td>0</td>\n",
       "      <td>2023-06-01</td>\n",
       "      <td>1</td>\n",
       "    </tr>\n",
       "    <tr>\n",
       "      <th>3</th>\n",
       "      <td>5267</td>\n",
       "      <td>Rock Bassett</td>\n",
       "      <td>Email: groovy.rock@email.com</td>\n",
       "      <td>2023-03-20</td>\n",
       "      <td>Basic (Ads)</td>\n",
       "      <td>2.99</td>\n",
       "      <td>0</td>\n",
       "      <td>NaT</td>\n",
       "      <td>0</td>\n",
       "    </tr>\n",
       "    <tr>\n",
       "      <th>4</th>\n",
       "      <td>5338</td>\n",
       "      <td>Rhythm Dixon</td>\n",
       "      <td>Email: beats.by.rhythm@email.edu</td>\n",
       "      <td>2023-03-20</td>\n",
       "      <td>Basic (Ads)</td>\n",
       "      <td>2.99</td>\n",
       "      <td>0</td>\n",
       "      <td>NaT</td>\n",
       "      <td>0</td>\n",
       "    </tr>\n",
       "  </tbody>\n",
       "</table>\n",
       "</div>"
      ],
      "text/plain": [
       "   Customer ID   Customer Name                              Email  \\\n",
       "0         5001  Harmony Greene  Email: harmonious.vibes@email.com   \n",
       "1         5002       Aria Keys    Email: melodious.aria@email.edu   \n",
       "2         5004      Lyric Bell  Email: rhythmical.lyric@email.com   \n",
       "3         5267    Rock Bassett       Email: groovy.rock@email.com   \n",
       "4         5338    Rhythm Dixon   Email: beats.by.rhythm@email.edu   \n",
       "\n",
       "  Member Since Subscription Plan  Subscription Rate  Discount?  \\\n",
       "0   2023-03-13       Basic (Ads)               2.99          0   \n",
       "1   2023-03-13       Basic (Ads)               2.99          0   \n",
       "2   2023-03-13       Basic (Ads)               2.99          0   \n",
       "3   2023-03-20       Basic (Ads)               2.99          0   \n",
       "4   2023-03-20       Basic (Ads)               2.99          0   \n",
       "\n",
       "  Cancellation Date  Cancelled  \n",
       "0               NaT          0  \n",
       "1               NaT          0  \n",
       "2        2023-06-01          1  \n",
       "3               NaT          0  \n",
       "4               NaT          0  "
      ]
     },
     "execution_count": 34,
     "metadata": {},
     "output_type": "execute_result"
    }
   ],
   "source": [
    "customer_data.head()"
   ]
  },
  {
   "cell_type": "code",
   "execution_count": 35,
   "metadata": {},
   "outputs": [],
   "source": [
    "# Create an updated 'Email' column without the Email: portion\n",
    "customer_data['Email'] = customer_data['Email'].str[6:]"
   ]
  },
  {
   "cell_type": "markdown",
   "metadata": {},
   "source": [
    "## 4. EDA"
   ]
  },
  {
   "cell_type": "markdown",
   "metadata": {},
   "source": [
    "Try to better understand the customers who cancelled:\n",
    "* How long were they members before they cancelled?\n",
    "* What percentage of customers who cancelled had a discount vs customers who didn't cancel?"
   ]
  },
  {
   "cell_type": "code",
   "execution_count": 36,
   "metadata": {},
   "outputs": [
    {
     "data": {
      "text/plain": [
       "Timedelta('46 days 07:23:04.615384615')"
      ]
     },
     "execution_count": 36,
     "metadata": {},
     "output_type": "execute_result"
    }
   ],
   "source": [
    "customer_data[customer_data['Cancellation Date'].notna()].head()\n",
    "(customer_data['Cancellation Date'] - customer_data['Member Since']).mean()"
   ]
  },
  {
   "cell_type": "code",
   "execution_count": 37,
   "metadata": {},
   "outputs": [],
   "source": [
    "# Cancellation rate for those who had a discount\n",
    "discount_yes = customer_data[customer_data['Discount?'] == 1]\n",
    "\n",
    "discount_yes = discount_yes['Cancelled'].sum() / discount_yes['Cancelled'].count() "
   ]
  },
  {
   "cell_type": "code",
   "execution_count": 38,
   "metadata": {},
   "outputs": [
    {
     "data": {
      "text/plain": [
       "0.30434782608695654"
      ]
     },
     "execution_count": 38,
     "metadata": {},
     "output_type": "execute_result"
    }
   ],
   "source": [
    "discount_no = customer_data[customer_data['Discount?'] == 0]\n",
    "\n",
    "discount_no['Cancelled'].sum() / discount_no['Cancelled'].count() "
   ]
  },
  {
   "cell_type": "code",
   "execution_count": 39,
   "metadata": {},
   "outputs": [
    {
     "data": {
      "image/png": "[encoded data removed]",
      "text/plain": [
       "<Figure size 500x300 with 1 Axes>"
      ]
     },
     "metadata": {},
     "output_type": "display_data"
    }
   ],
   "source": [
    "import matplotlib.pyplot as plt\n",
    "\n",
    "y = ['Had Discount', 'Had No Discount']\n",
    "x = [0.304, 0.857]\n",
    "\n",
    "plt.figure(figsize=(5,3))\n",
    "plt.barh(y, x)\n",
    "plt.ylabel(\"Customer Type\")\n",
    "plt.xlabel(\"Cancellation Rate\")\n",
    "plt.title(\"Discount vs. No Discount Cancellation Rate \")\n",
    "plt.show()"
   ]
  },
  {
   "cell_type": "markdown",
   "metadata": {},
   "source": [
    "Better understand the customers' listening histories:\n",
    "* Join together the listening history and audio tables\n",
    "* How many listening sessions did each customer have in the past 3 months?\n",
    "* What were the most popular genres that customers listened to?"
   ]
  },
  {
   "cell_type": "code",
   "execution_count": 40,
   "metadata": {},
   "outputs": [
    {
     "data": {
      "text/html": [
       "<div>\n",
       "<style scoped>\n",
       "    .dataframe tbody tr th:only-of-type {\n",
       "        vertical-align: middle;\n",
       "    }\n",
       "\n",
       "    .dataframe tbody tr th {\n",
       "        vertical-align: top;\n",
       "    }\n",
       "\n",
       "    .dataframe thead th {\n",
       "        text-align: right;\n",
       "    }\n",
       "</style>\n",
       "<table border=\"1\" class=\"dataframe\">\n",
       "  <thead>\n",
       "    <tr style=\"text-align: right;\">\n",
       "      <th></th>\n",
       "      <th>Customer ID</th>\n",
       "      <th>Session ID</th>\n",
       "      <th>Audio Order</th>\n",
       "      <th>Audio ID</th>\n",
       "      <th>Audio Type</th>\n",
       "    </tr>\n",
       "  </thead>\n",
       "  <tbody>\n",
       "    <tr>\n",
       "      <th>0</th>\n",
       "      <td>5001</td>\n",
       "      <td>100520</td>\n",
       "      <td>1</td>\n",
       "      <td>101</td>\n",
       "      <td>Song</td>\n",
       "    </tr>\n",
       "    <tr>\n",
       "      <th>1</th>\n",
       "      <td>5001</td>\n",
       "      <td>100520</td>\n",
       "      <td>2</td>\n",
       "      <td>102</td>\n",
       "      <td>Song</td>\n",
       "    </tr>\n",
       "    <tr>\n",
       "      <th>2</th>\n",
       "      <td>5001</td>\n",
       "      <td>100520</td>\n",
       "      <td>3</td>\n",
       "      <td>103</td>\n",
       "      <td>Song</td>\n",
       "    </tr>\n",
       "    <tr>\n",
       "      <th>3</th>\n",
       "      <td>5001</td>\n",
       "      <td>100520</td>\n",
       "      <td>4</td>\n",
       "      <td>104</td>\n",
       "      <td>Song</td>\n",
       "    </tr>\n",
       "    <tr>\n",
       "      <th>4</th>\n",
       "      <td>5001</td>\n",
       "      <td>100520</td>\n",
       "      <td>5</td>\n",
       "      <td>105</td>\n",
       "      <td>Song</td>\n",
       "    </tr>\n",
       "  </tbody>\n",
       "</table>\n",
       "</div>"
      ],
      "text/plain": [
       "   Customer ID  Session ID  Audio Order  Audio ID Audio Type\n",
       "0         5001      100520            1       101       Song\n",
       "1         5001      100520            2       102       Song\n",
       "2         5001      100520            3       103       Song\n",
       "3         5001      100520            4       104       Song\n",
       "4         5001      100520            5       105       Song"
      ]
     },
     "execution_count": 40,
     "metadata": {},
     "output_type": "execute_result"
    }
   ],
   "source": [
    "listening_history.head()"
   ]
  },
  {
   "cell_type": "code",
   "execution_count": 41,
   "metadata": {},
   "outputs": [
    {
     "data": {
      "text/html": [
       "<div>\n",
       "<style scoped>\n",
       "    .dataframe tbody tr th:only-of-type {\n",
       "        vertical-align: middle;\n",
       "    }\n",
       "\n",
       "    .dataframe tbody tr th {\n",
       "        vertical-align: top;\n",
       "    }\n",
       "\n",
       "    .dataframe thead th {\n",
       "        text-align: right;\n",
       "    }\n",
       "</style>\n",
       "<table border=\"1\" class=\"dataframe\">\n",
       "  <thead>\n",
       "    <tr style=\"text-align: right;\">\n",
       "      <th></th>\n",
       "      <th>Name</th>\n",
       "      <th>Genre</th>\n",
       "      <th>Popularity</th>\n",
       "      <th>Audio Type</th>\n",
       "      <th>Audio ID</th>\n",
       "    </tr>\n",
       "  </thead>\n",
       "  <tbody>\n",
       "    <tr>\n",
       "      <th>0</th>\n",
       "      <td>Dance All Night</td>\n",
       "      <td>Pop</td>\n",
       "      <td>1</td>\n",
       "      <td>Song</td>\n",
       "      <td>101</td>\n",
       "    </tr>\n",
       "    <tr>\n",
       "      <th>1</th>\n",
       "      <td>Unbreakable Beat</td>\n",
       "      <td>Pop</td>\n",
       "      <td>2</td>\n",
       "      <td>Song</td>\n",
       "      <td>102</td>\n",
       "    </tr>\n",
       "    <tr>\n",
       "      <th>2</th>\n",
       "      <td>Sunset Boulevard</td>\n",
       "      <td>Pop</td>\n",
       "      <td>5</td>\n",
       "      <td>Song</td>\n",
       "      <td>103</td>\n",
       "    </tr>\n",
       "    <tr>\n",
       "      <th>3</th>\n",
       "      <td>Glowing Hearts</td>\n",
       "      <td>Pop</td>\n",
       "      <td>10</td>\n",
       "      <td>Song</td>\n",
       "      <td>104</td>\n",
       "    </tr>\n",
       "    <tr>\n",
       "      <th>4</th>\n",
       "      <td>Pop Rocks</td>\n",
       "      <td>Pop</td>\n",
       "      <td>52</td>\n",
       "      <td>Song</td>\n",
       "      <td>105</td>\n",
       "    </tr>\n",
       "  </tbody>\n",
       "</table>\n",
       "</div>"
      ],
      "text/plain": [
       "               Name Genre  Popularity Audio Type  Audio ID\n",
       "0   Dance All Night   Pop           1       Song       101\n",
       "1  Unbreakable Beat   Pop           2       Song       102\n",
       "2  Sunset Boulevard   Pop           5       Song       103\n",
       "3    Glowing Hearts   Pop          10       Song       104\n",
       "4         Pop Rocks   Pop          52       Song       105"
      ]
     },
     "execution_count": 41,
     "metadata": {},
     "output_type": "execute_result"
    }
   ],
   "source": [
    "audio_data.head()"
   ]
  },
  {
   "cell_type": "code",
   "execution_count": 42,
   "metadata": {},
   "outputs": [
    {
     "data": {
      "text/html": [
       "<div>\n",
       "<style scoped>\n",
       "    .dataframe tbody tr th:only-of-type {\n",
       "        vertical-align: middle;\n",
       "    }\n",
       "\n",
       "    .dataframe tbody tr th {\n",
       "        vertical-align: top;\n",
       "    }\n",
       "\n",
       "    .dataframe thead th {\n",
       "        text-align: right;\n",
       "    }\n",
       "</style>\n",
       "<table border=\"1\" class=\"dataframe\">\n",
       "  <thead>\n",
       "    <tr style=\"text-align: right;\">\n",
       "      <th></th>\n",
       "      <th>Customer ID</th>\n",
       "      <th>Session ID</th>\n",
       "      <th>Audio Order</th>\n",
       "      <th>Audio ID</th>\n",
       "      <th>Audio Type</th>\n",
       "      <th>Name</th>\n",
       "      <th>Genre</th>\n",
       "      <th>Popularity</th>\n",
       "    </tr>\n",
       "  </thead>\n",
       "  <tbody>\n",
       "    <tr>\n",
       "      <th>0</th>\n",
       "      <td>5001</td>\n",
       "      <td>100520</td>\n",
       "      <td>1</td>\n",
       "      <td>101</td>\n",
       "      <td>Song</td>\n",
       "      <td>Dance All Night</td>\n",
       "      <td>Pop</td>\n",
       "      <td>1.0</td>\n",
       "    </tr>\n",
       "    <tr>\n",
       "      <th>1</th>\n",
       "      <td>5001</td>\n",
       "      <td>100520</td>\n",
       "      <td>2</td>\n",
       "      <td>102</td>\n",
       "      <td>Song</td>\n",
       "      <td>Unbreakable Beat</td>\n",
       "      <td>Pop</td>\n",
       "      <td>2.0</td>\n",
       "    </tr>\n",
       "    <tr>\n",
       "      <th>2</th>\n",
       "      <td>5001</td>\n",
       "      <td>100520</td>\n",
       "      <td>3</td>\n",
       "      <td>103</td>\n",
       "      <td>Song</td>\n",
       "      <td>Sunset Boulevard</td>\n",
       "      <td>Pop</td>\n",
       "      <td>5.0</td>\n",
       "    </tr>\n",
       "    <tr>\n",
       "      <th>3</th>\n",
       "      <td>5001</td>\n",
       "      <td>100520</td>\n",
       "      <td>4</td>\n",
       "      <td>104</td>\n",
       "      <td>Song</td>\n",
       "      <td>Glowing Hearts</td>\n",
       "      <td>Pop</td>\n",
       "      <td>10.0</td>\n",
       "    </tr>\n",
       "    <tr>\n",
       "      <th>4</th>\n",
       "      <td>5001</td>\n",
       "      <td>100520</td>\n",
       "      <td>5</td>\n",
       "      <td>105</td>\n",
       "      <td>Song</td>\n",
       "      <td>Pop Rocks</td>\n",
       "      <td>Pop</td>\n",
       "      <td>52.0</td>\n",
       "    </tr>\n",
       "  </tbody>\n",
       "</table>\n",
       "</div>"
      ],
      "text/plain": [
       "   Customer ID  Session ID  Audio Order  Audio ID Audio Type  \\\n",
       "0         5001      100520            1       101       Song   \n",
       "1         5001      100520            2       102       Song   \n",
       "2         5001      100520            3       103       Song   \n",
       "3         5001      100520            4       104       Song   \n",
       "4         5001      100520            5       105       Song   \n",
       "\n",
       "               Name Genre  Popularity  \n",
       "0   Dance All Night   Pop         1.0  \n",
       "1  Unbreakable Beat   Pop         2.0  \n",
       "2  Sunset Boulevard   Pop         5.0  \n",
       "3    Glowing Hearts   Pop        10.0  \n",
       "4         Pop Rocks   Pop        52.0  "
      ]
     },
     "execution_count": 42,
     "metadata": {},
     "output_type": "execute_result"
    }
   ],
   "source": [
    "new_table = listening_history.merge(audio_data, how='left', on=['Audio ID', 'Audio Type'])\n",
    "new_table.head()"
   ]
  },
  {
   "cell_type": "code",
   "execution_count": 43,
   "metadata": {},
   "outputs": [
    {
     "data": {
      "text/plain": [
       "Customer ID\n",
       "5001    8\n",
       "5002    4\n",
       "5004    1\n",
       "5267    7\n",
       "5338    4\n",
       "5404    1\n",
       "5581    3\n",
       "5759    2\n",
       "5761    3\n",
       "5763    6\n",
       "5826    3\n",
       "5827    1\n",
       "6029    2\n",
       "6092    3\n",
       "6163    3\n",
       "6229    2\n",
       "6406    3\n",
       "6584    2\n",
       "6586    2\n",
       "6588    3\n",
       "6821    2\n",
       "6822    3\n",
       "6824    4\n",
       "7087    3\n",
       "7158    3\n",
       "7224    4\n",
       "7401    3\n",
       "7579    2\n",
       "7581    2\n",
       "7583    1\n",
       "Name: Session ID, dtype: int64"
      ]
     },
     "execution_count": 43,
     "metadata": {},
     "output_type": "execute_result"
    }
   ],
   "source": [
    "new_table.groupby('Customer ID')['Session ID'].nunique()"
   ]
  },
  {
   "cell_type": "code",
   "execution_count": 44,
   "metadata": {},
   "outputs": [
    {
     "data": {
      "text/plain": [
       "Pop           259\n",
       "Hip Hop        88\n",
       "Country        68\n",
       "Jazz           48\n",
       "Comedy         19\n",
       "True Crime     15\n",
       "Name: Genre, dtype: int64"
      ]
     },
     "execution_count": 44,
     "metadata": {},
     "output_type": "execute_result"
    }
   ],
   "source": [
    "# The most popular genres that customers listened to\n",
    "new_table['Genre'].value_counts()"
   ]
  },
  {
   "cell_type": "markdown",
   "metadata": {},
   "source": [
    "## 5. Prep for Modeling"
   ]
  },
  {
   "cell_type": "markdown",
   "metadata": {},
   "source": [
    "Create a DataFrame that is ready for modeling with each row representing a customer and the following numeric, non-null columns:\n",
    "* Customer ID\n",
    "* Whether a customer cancelled or not\n",
    "* Whether a customer received a discount or not\n",
    "* The number of listening sessions\n",
    "* Percent of listening history consisting of Pop\n",
    "* Percent of listening history consisting of Podcasts"
   ]
  },
  {
   "cell_type": "code",
   "execution_count": 45,
   "metadata": {},
   "outputs": [
    {
     "data": {
      "text/html": [
       "<div>\n",
       "<style scoped>\n",
       "    .dataframe tbody tr th:only-of-type {\n",
       "        vertical-align: middle;\n",
       "    }\n",
       "\n",
       "    .dataframe tbody tr th {\n",
       "        vertical-align: top;\n",
       "    }\n",
       "\n",
       "    .dataframe thead th {\n",
       "        text-align: right;\n",
       "    }\n",
       "</style>\n",
       "<table border=\"1\" class=\"dataframe\">\n",
       "  <thead>\n",
       "    <tr style=\"text-align: right;\">\n",
       "      <th></th>\n",
       "      <th>Customer ID</th>\n",
       "      <th>Cancelled</th>\n",
       "      <th>Discount?</th>\n",
       "    </tr>\n",
       "  </thead>\n",
       "  <tbody>\n",
       "    <tr>\n",
       "      <th>0</th>\n",
       "      <td>5001</td>\n",
       "      <td>0</td>\n",
       "      <td>0</td>\n",
       "    </tr>\n",
       "    <tr>\n",
       "      <th>1</th>\n",
       "      <td>5002</td>\n",
       "      <td>0</td>\n",
       "      <td>0</td>\n",
       "    </tr>\n",
       "    <tr>\n",
       "      <th>2</th>\n",
       "      <td>5004</td>\n",
       "      <td>1</td>\n",
       "      <td>0</td>\n",
       "    </tr>\n",
       "    <tr>\n",
       "      <th>3</th>\n",
       "      <td>5267</td>\n",
       "      <td>0</td>\n",
       "      <td>0</td>\n",
       "    </tr>\n",
       "    <tr>\n",
       "      <th>4</th>\n",
       "      <td>5338</td>\n",
       "      <td>0</td>\n",
       "      <td>0</td>\n",
       "    </tr>\n",
       "  </tbody>\n",
       "</table>\n",
       "</div>"
      ],
      "text/plain": [
       "   Customer ID  Cancelled  Discount?\n",
       "0         5001          0          0\n",
       "1         5002          0          0\n",
       "2         5004          1          0\n",
       "3         5267          0          0\n",
       "4         5338          0          0"
      ]
     },
     "execution_count": 45,
     "metadata": {},
     "output_type": "execute_result"
    }
   ],
   "source": [
    "# Create a dataframe ready for modeling\n",
    "customer_data.head()\n",
    "\n",
    "model_df = customer_data[['Customer ID', 'Cancelled', 'Discount?']].copy()\n",
    "model_df.head()"
   ]
  },
  {
   "cell_type": "code",
   "execution_count": 46,
   "metadata": {},
   "outputs": [
    {
     "data": {
      "text/html": [
       "<div>\n",
       "<style scoped>\n",
       "    .dataframe tbody tr th:only-of-type {\n",
       "        vertical-align: middle;\n",
       "    }\n",
       "\n",
       "    .dataframe tbody tr th {\n",
       "        vertical-align: top;\n",
       "    }\n",
       "\n",
       "    .dataframe thead th {\n",
       "        text-align: right;\n",
       "    }\n",
       "</style>\n",
       "<table border=\"1\" class=\"dataframe\">\n",
       "  <thead>\n",
       "    <tr style=\"text-align: right;\">\n",
       "      <th></th>\n",
       "      <th>Customer ID</th>\n",
       "      <th>Cancelled</th>\n",
       "      <th>Discount?</th>\n",
       "      <th>Number of Sessions</th>\n",
       "    </tr>\n",
       "  </thead>\n",
       "  <tbody>\n",
       "    <tr>\n",
       "      <th>0</th>\n",
       "      <td>5001</td>\n",
       "      <td>0</td>\n",
       "      <td>0</td>\n",
       "      <td>8</td>\n",
       "    </tr>\n",
       "    <tr>\n",
       "      <th>1</th>\n",
       "      <td>5002</td>\n",
       "      <td>0</td>\n",
       "      <td>0</td>\n",
       "      <td>4</td>\n",
       "    </tr>\n",
       "    <tr>\n",
       "      <th>2</th>\n",
       "      <td>5004</td>\n",
       "      <td>1</td>\n",
       "      <td>0</td>\n",
       "      <td>1</td>\n",
       "    </tr>\n",
       "    <tr>\n",
       "      <th>3</th>\n",
       "      <td>5267</td>\n",
       "      <td>0</td>\n",
       "      <td>0</td>\n",
       "      <td>7</td>\n",
       "    </tr>\n",
       "    <tr>\n",
       "      <th>4</th>\n",
       "      <td>5338</td>\n",
       "      <td>0</td>\n",
       "      <td>0</td>\n",
       "      <td>4</td>\n",
       "    </tr>\n",
       "  </tbody>\n",
       "</table>\n",
       "</div>"
      ],
      "text/plain": [
       "   Customer ID  Cancelled  Discount?  Number of Sessions\n",
       "0         5001          0          0                   8\n",
       "1         5002          0          0                   4\n",
       "2         5004          1          0                   1\n",
       "3         5267          0          0                   7\n",
       "4         5338          0          0                   4"
      ]
     },
     "execution_count": 46,
     "metadata": {},
     "output_type": "execute_result"
    }
   ],
   "source": [
    "# Calculate the number of listening sessions for each customer\n",
    "sessions = (new_table.groupby('Customer ID')['Session ID']\n",
    "                                          .nunique()\n",
    "                                          .rename('Number of Sessions')\n",
    "                                          .to_frame()\n",
    "                                          .reset_index())\n",
    "sessions.head()\n",
    "\n",
    "model_df = model_df.merge(sessions, how='left', on='Customer ID')\n",
    "model_df.head()"
   ]
  },
  {
   "cell_type": "code",
   "execution_count": 47,
   "metadata": {},
   "outputs": [
    {
     "data": {
      "text/html": [
       "<div>\n",
       "<style scoped>\n",
       "    .dataframe tbody tr th:only-of-type {\n",
       "        vertical-align: middle;\n",
       "    }\n",
       "\n",
       "    .dataframe tbody tr th {\n",
       "        vertical-align: top;\n",
       "    }\n",
       "\n",
       "    .dataframe thead th {\n",
       "        text-align: right;\n",
       "    }\n",
       "</style>\n",
       "<table border=\"1\" class=\"dataframe\">\n",
       "  <thead>\n",
       "    <tr style=\"text-align: right;\">\n",
       "      <th></th>\n",
       "      <th>Comedy</th>\n",
       "      <th>Country</th>\n",
       "      <th>Hip Hop</th>\n",
       "      <th>Jazz</th>\n",
       "      <th>Pop</th>\n",
       "      <th>True Crime</th>\n",
       "    </tr>\n",
       "  </thead>\n",
       "  <tbody>\n",
       "    <tr>\n",
       "      <th>0</th>\n",
       "      <td>0</td>\n",
       "      <td>0</td>\n",
       "      <td>0</td>\n",
       "      <td>0</td>\n",
       "      <td>1</td>\n",
       "      <td>0</td>\n",
       "    </tr>\n",
       "    <tr>\n",
       "      <th>1</th>\n",
       "      <td>0</td>\n",
       "      <td>0</td>\n",
       "      <td>0</td>\n",
       "      <td>0</td>\n",
       "      <td>1</td>\n",
       "      <td>0</td>\n",
       "    </tr>\n",
       "    <tr>\n",
       "      <th>2</th>\n",
       "      <td>0</td>\n",
       "      <td>0</td>\n",
       "      <td>0</td>\n",
       "      <td>0</td>\n",
       "      <td>1</td>\n",
       "      <td>0</td>\n",
       "    </tr>\n",
       "    <tr>\n",
       "      <th>3</th>\n",
       "      <td>0</td>\n",
       "      <td>0</td>\n",
       "      <td>0</td>\n",
       "      <td>0</td>\n",
       "      <td>1</td>\n",
       "      <td>0</td>\n",
       "    </tr>\n",
       "    <tr>\n",
       "      <th>4</th>\n",
       "      <td>0</td>\n",
       "      <td>0</td>\n",
       "      <td>0</td>\n",
       "      <td>0</td>\n",
       "      <td>1</td>\n",
       "      <td>0</td>\n",
       "    </tr>\n",
       "    <tr>\n",
       "      <th>...</th>\n",
       "      <td>...</td>\n",
       "      <td>...</td>\n",
       "      <td>...</td>\n",
       "      <td>...</td>\n",
       "      <td>...</td>\n",
       "      <td>...</td>\n",
       "    </tr>\n",
       "    <tr>\n",
       "      <th>500</th>\n",
       "      <td>0</td>\n",
       "      <td>0</td>\n",
       "      <td>0</td>\n",
       "      <td>1</td>\n",
       "      <td>0</td>\n",
       "      <td>0</td>\n",
       "    </tr>\n",
       "    <tr>\n",
       "      <th>501</th>\n",
       "      <td>1</td>\n",
       "      <td>0</td>\n",
       "      <td>0</td>\n",
       "      <td>0</td>\n",
       "      <td>0</td>\n",
       "      <td>0</td>\n",
       "    </tr>\n",
       "    <tr>\n",
       "      <th>502</th>\n",
       "      <td>0</td>\n",
       "      <td>0</td>\n",
       "      <td>1</td>\n",
       "      <td>0</td>\n",
       "      <td>0</td>\n",
       "      <td>0</td>\n",
       "    </tr>\n",
       "    <tr>\n",
       "      <th>503</th>\n",
       "      <td>0</td>\n",
       "      <td>0</td>\n",
       "      <td>1</td>\n",
       "      <td>0</td>\n",
       "      <td>0</td>\n",
       "      <td>0</td>\n",
       "    </tr>\n",
       "    <tr>\n",
       "      <th>504</th>\n",
       "      <td>0</td>\n",
       "      <td>0</td>\n",
       "      <td>1</td>\n",
       "      <td>0</td>\n",
       "      <td>0</td>\n",
       "      <td>0</td>\n",
       "    </tr>\n",
       "  </tbody>\n",
       "</table>\n",
       "<p>505 rows × 6 columns</p>\n",
       "</div>"
      ],
      "text/plain": [
       "     Comedy  Country  Hip Hop  Jazz  Pop  True Crime\n",
       "0         0        0        0     0    1           0\n",
       "1         0        0        0     0    1           0\n",
       "2         0        0        0     0    1           0\n",
       "3         0        0        0     0    1           0\n",
       "4         0        0        0     0    1           0\n",
       "..      ...      ...      ...   ...  ...         ...\n",
       "500       0        0        0     1    0           0\n",
       "501       1        0        0     0    0           0\n",
       "502       0        0        1     0    0           0\n",
       "503       0        0        1     0    0           0\n",
       "504       0        0        1     0    0           0\n",
       "\n",
       "[505 rows x 6 columns]"
      ]
     },
     "execution_count": 47,
     "metadata": {},
     "output_type": "execute_result"
    }
   ],
   "source": [
    "pd.get_dummies(new_table['Genre'])"
   ]
  },
  {
   "cell_type": "code",
   "execution_count": 48,
   "metadata": {},
   "outputs": [
    {
     "data": {
      "text/html": [
       "<div>\n",
       "<style scoped>\n",
       "    .dataframe tbody tr th:only-of-type {\n",
       "        vertical-align: middle;\n",
       "    }\n",
       "\n",
       "    .dataframe tbody tr th {\n",
       "        vertical-align: top;\n",
       "    }\n",
       "\n",
       "    .dataframe thead th {\n",
       "        text-align: right;\n",
       "    }\n",
       "</style>\n",
       "<table border=\"1\" class=\"dataframe\">\n",
       "  <thead>\n",
       "    <tr style=\"text-align: right;\">\n",
       "      <th></th>\n",
       "      <th>Customer ID</th>\n",
       "      <th>Comedy</th>\n",
       "      <th>Country</th>\n",
       "      <th>Hip Hop</th>\n",
       "      <th>Jazz</th>\n",
       "      <th>Pop</th>\n",
       "      <th>True Crime</th>\n",
       "    </tr>\n",
       "  </thead>\n",
       "  <tbody>\n",
       "    <tr>\n",
       "      <th>0</th>\n",
       "      <td>5001</td>\n",
       "      <td>0</td>\n",
       "      <td>0</td>\n",
       "      <td>0</td>\n",
       "      <td>0</td>\n",
       "      <td>1</td>\n",
       "      <td>0</td>\n",
       "    </tr>\n",
       "    <tr>\n",
       "      <th>1</th>\n",
       "      <td>5001</td>\n",
       "      <td>0</td>\n",
       "      <td>0</td>\n",
       "      <td>0</td>\n",
       "      <td>0</td>\n",
       "      <td>1</td>\n",
       "      <td>0</td>\n",
       "    </tr>\n",
       "    <tr>\n",
       "      <th>2</th>\n",
       "      <td>5001</td>\n",
       "      <td>0</td>\n",
       "      <td>0</td>\n",
       "      <td>0</td>\n",
       "      <td>0</td>\n",
       "      <td>1</td>\n",
       "      <td>0</td>\n",
       "    </tr>\n",
       "    <tr>\n",
       "      <th>3</th>\n",
       "      <td>5001</td>\n",
       "      <td>0</td>\n",
       "      <td>0</td>\n",
       "      <td>0</td>\n",
       "      <td>0</td>\n",
       "      <td>1</td>\n",
       "      <td>0</td>\n",
       "    </tr>\n",
       "    <tr>\n",
       "      <th>4</th>\n",
       "      <td>5001</td>\n",
       "      <td>0</td>\n",
       "      <td>0</td>\n",
       "      <td>0</td>\n",
       "      <td>0</td>\n",
       "      <td>1</td>\n",
       "      <td>0</td>\n",
       "    </tr>\n",
       "    <tr>\n",
       "      <th>...</th>\n",
       "      <td>...</td>\n",
       "      <td>...</td>\n",
       "      <td>...</td>\n",
       "      <td>...</td>\n",
       "      <td>...</td>\n",
       "      <td>...</td>\n",
       "      <td>...</td>\n",
       "    </tr>\n",
       "    <tr>\n",
       "      <th>500</th>\n",
       "      <td>7579</td>\n",
       "      <td>0</td>\n",
       "      <td>0</td>\n",
       "      <td>0</td>\n",
       "      <td>1</td>\n",
       "      <td>0</td>\n",
       "      <td>0</td>\n",
       "    </tr>\n",
       "    <tr>\n",
       "      <th>501</th>\n",
       "      <td>6588</td>\n",
       "      <td>1</td>\n",
       "      <td>0</td>\n",
       "      <td>0</td>\n",
       "      <td>0</td>\n",
       "      <td>0</td>\n",
       "      <td>0</td>\n",
       "    </tr>\n",
       "    <tr>\n",
       "      <th>502</th>\n",
       "      <td>5763</td>\n",
       "      <td>0</td>\n",
       "      <td>0</td>\n",
       "      <td>1</td>\n",
       "      <td>0</td>\n",
       "      <td>0</td>\n",
       "      <td>0</td>\n",
       "    </tr>\n",
       "    <tr>\n",
       "      <th>503</th>\n",
       "      <td>5763</td>\n",
       "      <td>0</td>\n",
       "      <td>0</td>\n",
       "      <td>1</td>\n",
       "      <td>0</td>\n",
       "      <td>0</td>\n",
       "      <td>0</td>\n",
       "    </tr>\n",
       "    <tr>\n",
       "      <th>504</th>\n",
       "      <td>5763</td>\n",
       "      <td>0</td>\n",
       "      <td>0</td>\n",
       "      <td>1</td>\n",
       "      <td>0</td>\n",
       "      <td>0</td>\n",
       "      <td>0</td>\n",
       "    </tr>\n",
       "  </tbody>\n",
       "</table>\n",
       "<p>505 rows × 7 columns</p>\n",
       "</div>"
      ],
      "text/plain": [
       "     Customer ID  Comedy  Country  Hip Hop  Jazz  Pop  True Crime\n",
       "0           5001       0        0        0     0    1           0\n",
       "1           5001       0        0        0     0    1           0\n",
       "2           5001       0        0        0     0    1           0\n",
       "3           5001       0        0        0     0    1           0\n",
       "4           5001       0        0        0     0    1           0\n",
       "..           ...     ...      ...      ...   ...  ...         ...\n",
       "500         7579       0        0        0     1    0           0\n",
       "501         6588       1        0        0     0    0           0\n",
       "502         5763       0        0        1     0    0           0\n",
       "503         5763       0        0        1     0    0           0\n",
       "504         5763       0        0        1     0    0           0\n",
       "\n",
       "[505 rows x 7 columns]"
      ]
     },
     "execution_count": 48,
     "metadata": {},
     "output_type": "execute_result"
    }
   ],
   "source": [
    "pd.concat([new_table['Customer ID'], pd.get_dummies(new_table['Genre'])], axis=1)"
   ]
  },
  {
   "cell_type": "code",
   "execution_count": 49,
   "metadata": {},
   "outputs": [
    {
     "data": {
      "text/html": [
       "<div>\n",
       "<style scoped>\n",
       "    .dataframe tbody tr th:only-of-type {\n",
       "        vertical-align: middle;\n",
       "    }\n",
       "\n",
       "    .dataframe tbody tr th {\n",
       "        vertical-align: top;\n",
       "    }\n",
       "\n",
       "    .dataframe thead th {\n",
       "        text-align: right;\n",
       "    }\n",
       "</style>\n",
       "<table border=\"1\" class=\"dataframe\">\n",
       "  <thead>\n",
       "    <tr style=\"text-align: right;\">\n",
       "      <th></th>\n",
       "      <th>Customer ID</th>\n",
       "      <th>Comedy</th>\n",
       "      <th>Country</th>\n",
       "      <th>Hip Hop</th>\n",
       "      <th>Jazz</th>\n",
       "      <th>Pop</th>\n",
       "      <th>True Crime</th>\n",
       "    </tr>\n",
       "  </thead>\n",
       "  <tbody>\n",
       "    <tr>\n",
       "      <th>0</th>\n",
       "      <td>5001</td>\n",
       "      <td>0</td>\n",
       "      <td>0</td>\n",
       "      <td>26</td>\n",
       "      <td>0</td>\n",
       "      <td>34</td>\n",
       "      <td>0</td>\n",
       "    </tr>\n",
       "    <tr>\n",
       "      <th>1</th>\n",
       "      <td>5002</td>\n",
       "      <td>0</td>\n",
       "      <td>22</td>\n",
       "      <td>0</td>\n",
       "      <td>0</td>\n",
       "      <td>0</td>\n",
       "      <td>0</td>\n",
       "    </tr>\n",
       "    <tr>\n",
       "      <th>2</th>\n",
       "      <td>5004</td>\n",
       "      <td>0</td>\n",
       "      <td>0</td>\n",
       "      <td>0</td>\n",
       "      <td>0</td>\n",
       "      <td>9</td>\n",
       "      <td>0</td>\n",
       "    </tr>\n",
       "    <tr>\n",
       "      <th>3</th>\n",
       "      <td>5267</td>\n",
       "      <td>0</td>\n",
       "      <td>0</td>\n",
       "      <td>22</td>\n",
       "      <td>0</td>\n",
       "      <td>23</td>\n",
       "      <td>0</td>\n",
       "    </tr>\n",
       "    <tr>\n",
       "      <th>4</th>\n",
       "      <td>5338</td>\n",
       "      <td>0</td>\n",
       "      <td>18</td>\n",
       "      <td>0</td>\n",
       "      <td>0</td>\n",
       "      <td>0</td>\n",
       "      <td>0</td>\n",
       "    </tr>\n",
       "  </tbody>\n",
       "</table>\n",
       "</div>"
      ],
      "text/plain": [
       "   Customer ID  Comedy  Country  Hip Hop  Jazz  Pop  True Crime\n",
       "0         5001       0        0       26     0   34           0\n",
       "1         5002       0       22        0     0    0           0\n",
       "2         5004       0        0        0     0    9           0\n",
       "3         5267       0        0       22     0   23           0\n",
       "4         5338       0       18        0     0    0           0"
      ]
     },
     "execution_count": 49,
     "metadata": {},
     "output_type": "execute_result"
    }
   ],
   "source": [
    "genres = (pd.concat([new_table['Customer ID'], pd.get_dummies(new_table['Genre'])], axis=1)\n",
    "           .groupby('Customer ID')\n",
    "           .sum()\n",
    "           .reset_index())\n",
    "genres.head()"
   ]
  },
  {
   "cell_type": "code",
   "execution_count": 58,
   "metadata": {},
   "outputs": [
    {
     "data": {
      "text/html": [
       "<div>\n",
       "<style scoped>\n",
       "    .dataframe tbody tr th:only-of-type {\n",
       "        vertical-align: middle;\n",
       "    }\n",
       "\n",
       "    .dataframe tbody tr th {\n",
       "        vertical-align: top;\n",
       "    }\n",
       "\n",
       "    .dataframe thead th {\n",
       "        text-align: right;\n",
       "    }\n",
       "</style>\n",
       "<table border=\"1\" class=\"dataframe\">\n",
       "  <thead>\n",
       "    <tr style=\"text-align: right;\">\n",
       "      <th></th>\n",
       "      <th>Customer ID</th>\n",
       "      <th>Total Audio</th>\n",
       "    </tr>\n",
       "  </thead>\n",
       "  <tbody>\n",
       "    <tr>\n",
       "      <th>0</th>\n",
       "      <td>5001</td>\n",
       "      <td>60</td>\n",
       "    </tr>\n",
       "    <tr>\n",
       "      <th>1</th>\n",
       "      <td>5002</td>\n",
       "      <td>22</td>\n",
       "    </tr>\n",
       "    <tr>\n",
       "      <th>2</th>\n",
       "      <td>5004</td>\n",
       "      <td>9</td>\n",
       "    </tr>\n",
       "    <tr>\n",
       "      <th>3</th>\n",
       "      <td>5267</td>\n",
       "      <td>45</td>\n",
       "    </tr>\n",
       "    <tr>\n",
       "      <th>4</th>\n",
       "      <td>5338</td>\n",
       "      <td>18</td>\n",
       "    </tr>\n",
       "  </tbody>\n",
       "</table>\n",
       "</div>"
      ],
      "text/plain": [
       "   Customer ID  Total Audio\n",
       "0         5001           60\n",
       "1         5002           22\n",
       "2         5004            9\n",
       "3         5267           45\n",
       "4         5338           18"
      ]
     },
     "execution_count": 58,
     "metadata": {},
     "output_type": "execute_result"
    }
   ],
   "source": [
    "total_audio = listening_history.groupby('Customer ID')['Audio ID'].count().rename('Total Audio').to_frame().reset_index()\n",
    "total_audio.head()"
   ]
  },
  {
   "cell_type": "code",
   "execution_count": 71,
   "metadata": {},
   "outputs": [
    {
     "data": {
      "text/html": [
       "<div>\n",
       "<style scoped>\n",
       "    .dataframe tbody tr th:only-of-type {\n",
       "        vertical-align: middle;\n",
       "    }\n",
       "\n",
       "    .dataframe tbody tr th {\n",
       "        vertical-align: top;\n",
       "    }\n",
       "\n",
       "    .dataframe thead th {\n",
       "        text-align: right;\n",
       "    }\n",
       "</style>\n",
       "<table border=\"1\" class=\"dataframe\">\n",
       "  <thead>\n",
       "    <tr style=\"text-align: right;\">\n",
       "      <th></th>\n",
       "      <th>Customer ID</th>\n",
       "      <th>Cancelled</th>\n",
       "      <th>Discount?</th>\n",
       "      <th>Number of Sessions</th>\n",
       "      <th>Comedy</th>\n",
       "      <th>Country</th>\n",
       "      <th>Hip Hop</th>\n",
       "      <th>Jazz</th>\n",
       "      <th>Pop</th>\n",
       "      <th>True Crime</th>\n",
       "      <th>Percent Pop</th>\n",
       "    </tr>\n",
       "  </thead>\n",
       "  <tbody>\n",
       "    <tr>\n",
       "      <th>0</th>\n",
       "      <td>5001</td>\n",
       "      <td>0</td>\n",
       "      <td>0</td>\n",
       "      <td>8</td>\n",
       "      <td>0</td>\n",
       "      <td>0</td>\n",
       "      <td>26</td>\n",
       "      <td>0</td>\n",
       "      <td>34</td>\n",
       "      <td>0</td>\n",
       "      <td>57.0</td>\n",
       "    </tr>\n",
       "    <tr>\n",
       "      <th>1</th>\n",
       "      <td>5002</td>\n",
       "      <td>0</td>\n",
       "      <td>0</td>\n",
       "      <td>4</td>\n",
       "      <td>0</td>\n",
       "      <td>22</td>\n",
       "      <td>0</td>\n",
       "      <td>0</td>\n",
       "      <td>0</td>\n",
       "      <td>0</td>\n",
       "      <td>0.0</td>\n",
       "    </tr>\n",
       "    <tr>\n",
       "      <th>2</th>\n",
       "      <td>5004</td>\n",
       "      <td>1</td>\n",
       "      <td>0</td>\n",
       "      <td>1</td>\n",
       "      <td>0</td>\n",
       "      <td>0</td>\n",
       "      <td>0</td>\n",
       "      <td>0</td>\n",
       "      <td>9</td>\n",
       "      <td>0</td>\n",
       "      <td>100.0</td>\n",
       "    </tr>\n",
       "    <tr>\n",
       "      <th>3</th>\n",
       "      <td>5267</td>\n",
       "      <td>0</td>\n",
       "      <td>0</td>\n",
       "      <td>7</td>\n",
       "      <td>0</td>\n",
       "      <td>0</td>\n",
       "      <td>22</td>\n",
       "      <td>0</td>\n",
       "      <td>23</td>\n",
       "      <td>0</td>\n",
       "      <td>51.0</td>\n",
       "    </tr>\n",
       "    <tr>\n",
       "      <th>4</th>\n",
       "      <td>5338</td>\n",
       "      <td>0</td>\n",
       "      <td>0</td>\n",
       "      <td>4</td>\n",
       "      <td>0</td>\n",
       "      <td>18</td>\n",
       "      <td>0</td>\n",
       "      <td>0</td>\n",
       "      <td>0</td>\n",
       "      <td>0</td>\n",
       "      <td>0.0</td>\n",
       "    </tr>\n",
       "  </tbody>\n",
       "</table>\n",
       "</div>"
      ],
      "text/plain": [
       "   Customer ID  Cancelled  Discount?  Number of Sessions  Comedy  Country  \\\n",
       "0         5001          0          0                   8       0        0   \n",
       "1         5002          0          0                   4       0       22   \n",
       "2         5004          1          0                   1       0        0   \n",
       "3         5267          0          0                   7       0        0   \n",
       "4         5338          0          0                   4       0       18   \n",
       "\n",
       "   Hip Hop  Jazz  Pop  True Crime  Percent Pop  \n",
       "0       26     0   34           0         57.0  \n",
       "1        0     0    0           0          0.0  \n",
       "2        0     0    9           0        100.0  \n",
       "3       22     0   23           0         51.0  \n",
       "4        0     0    0           0          0.0  "
      ]
     },
     "execution_count": 71,
     "metadata": {},
     "output_type": "execute_result"
    }
   ],
   "source": [
    "model_df['Percent Pop'] = round((genres['Pop'] / total_audio['Total Audio']) * 100, 0)\n",
    "model_df.head()"
   ]
  },
  {
   "cell_type": "code",
   "execution_count": 85,
   "metadata": {},
   "outputs": [
    {
     "data": {
      "text/html": [
       "<div>\n",
       "<style scoped>\n",
       "    .dataframe tbody tr th:only-of-type {\n",
       "        vertical-align: middle;\n",
       "    }\n",
       "\n",
       "    .dataframe tbody tr th {\n",
       "        vertical-align: top;\n",
       "    }\n",
       "\n",
       "    .dataframe thead th {\n",
       "        text-align: right;\n",
       "    }\n",
       "</style>\n",
       "<table border=\"1\" class=\"dataframe\">\n",
       "  <thead>\n",
       "    <tr style=\"text-align: right;\">\n",
       "      <th></th>\n",
       "      <th>Customer ID</th>\n",
       "      <th>Cancelled</th>\n",
       "      <th>Discount?</th>\n",
       "      <th>Number of Sessions</th>\n",
       "      <th>Percent Pop</th>\n",
       "      <th>Percent Podcast</th>\n",
       "    </tr>\n",
       "  </thead>\n",
       "  <tbody>\n",
       "    <tr>\n",
       "      <th>25</th>\n",
       "      <td>7224</td>\n",
       "      <td>1</td>\n",
       "      <td>1</td>\n",
       "      <td>4</td>\n",
       "      <td>100.0</td>\n",
       "      <td>0.0</td>\n",
       "    </tr>\n",
       "    <tr>\n",
       "      <th>26</th>\n",
       "      <td>7401</td>\n",
       "      <td>1</td>\n",
       "      <td>1</td>\n",
       "      <td>3</td>\n",
       "      <td>45.0</td>\n",
       "      <td>27.0</td>\n",
       "    </tr>\n",
       "    <tr>\n",
       "      <th>27</th>\n",
       "      <td>7579</td>\n",
       "      <td>0</td>\n",
       "      <td>0</td>\n",
       "      <td>2</td>\n",
       "      <td>0.0</td>\n",
       "      <td>0.0</td>\n",
       "    </tr>\n",
       "    <tr>\n",
       "      <th>28</th>\n",
       "      <td>7581</td>\n",
       "      <td>1</td>\n",
       "      <td>1</td>\n",
       "      <td>2</td>\n",
       "      <td>93.0</td>\n",
       "      <td>7.0</td>\n",
       "    </tr>\n",
       "    <tr>\n",
       "      <th>29</th>\n",
       "      <td>7583</td>\n",
       "      <td>1</td>\n",
       "      <td>1</td>\n",
       "      <td>1</td>\n",
       "      <td>0.0</td>\n",
       "      <td>100.0</td>\n",
       "    </tr>\n",
       "  </tbody>\n",
       "</table>\n",
       "</div>"
      ],
      "text/plain": [
       "    Customer ID  Cancelled  Discount?  Number of Sessions  Percent Pop  \\\n",
       "25         7224          1          1                   4        100.0   \n",
       "26         7401          1          1                   3         45.0   \n",
       "27         7579          0          0                   2          0.0   \n",
       "28         7581          1          1                   2         93.0   \n",
       "29         7583          1          1                   1          0.0   \n",
       "\n",
       "    Percent Podcast  \n",
       "25              0.0  \n",
       "26             27.0  \n",
       "27              0.0  \n",
       "28              7.0  \n",
       "29            100.0  "
      ]
     },
     "execution_count": 85,
     "metadata": {},
     "output_type": "execute_result"
    }
   ],
   "source": [
    "model_df['Percent Podcast'] = round((genres['Comedy'] + genres['True Crime']) / total_audio['Total Audio'] * 100, 0)\n",
    "model_df.drop(columns=['Comedy', 'Country', 'Hip Hop', 'Jazz', 'Pop', 'True Crime'], inplace=True)\n",
    "model_df.tail()"
   ]
  },
  {
   "cell_type": "markdown",
   "metadata": {},
   "source": [
    "Visualize the relationships in the modeling DataFrame using a pair plot:\n",
    "* What are some of your observations?\n",
    "* What variables might do a good job predicting customer cancellation?"
   ]
  },
  {
   "cell_type": "code",
   "execution_count": 78,
   "metadata": {},
   "outputs": [],
   "source": [
    "import seaborn as sns"
   ]
  },
  {
   "cell_type": "code",
   "execution_count": 86,
   "metadata": {},
   "outputs": [
    {
     "data": {
      "image/png": "[encoded data removed]",
      "text/plain": [
       "<Figure size 1500x1500 with 42 Axes>"
      ]
     },
     "metadata": {},
     "output_type": "display_data"
    }
   ],
   "source": [
    "sns.pairplot(model_df)\n",
    "plt.show()"
   ]
  },
  {
   "cell_type": "code",
   "execution_count": 87,
   "metadata": {},
   "outputs": [
    {
     "data": {
      "text/html": [
       "<div>\n",
       "<style scoped>\n",
       "    .dataframe tbody tr th:only-of-type {\n",
       "        vertical-align: middle;\n",
       "    }\n",
       "\n",
       "    .dataframe tbody tr th {\n",
       "        vertical-align: top;\n",
       "    }\n",
       "\n",
       "    .dataframe thead th {\n",
       "        text-align: right;\n",
       "    }\n",
       "</style>\n",
       "<table border=\"1\" class=\"dataframe\">\n",
       "  <thead>\n",
       "    <tr style=\"text-align: right;\">\n",
       "      <th></th>\n",
       "      <th>Customer ID</th>\n",
       "      <th>Cancelled</th>\n",
       "      <th>Discount?</th>\n",
       "      <th>Number of Sessions</th>\n",
       "      <th>Percent Pop</th>\n",
       "      <th>Percent Podcast</th>\n",
       "    </tr>\n",
       "  </thead>\n",
       "  <tbody>\n",
       "    <tr>\n",
       "      <th>Customer ID</th>\n",
       "      <td>1.000000</td>\n",
       "      <td>0.269942</td>\n",
       "      <td>0.648514</td>\n",
       "      <td>-0.337083</td>\n",
       "      <td>-0.079113</td>\n",
       "      <td>0.082174</td>\n",
       "    </tr>\n",
       "    <tr>\n",
       "      <th>Cancelled</th>\n",
       "      <td>0.269942</td>\n",
       "      <td>1.000000</td>\n",
       "      <td>0.471825</td>\n",
       "      <td>-0.333739</td>\n",
       "      <td>0.536948</td>\n",
       "      <td>-0.035817</td>\n",
       "    </tr>\n",
       "    <tr>\n",
       "      <th>Discount?</th>\n",
       "      <td>0.648514</td>\n",
       "      <td>0.471825</td>\n",
       "      <td>1.000000</td>\n",
       "      <td>-0.048877</td>\n",
       "      <td>0.143311</td>\n",
       "      <td>0.061983</td>\n",
       "    </tr>\n",
       "    <tr>\n",
       "      <th>Number of Sessions</th>\n",
       "      <td>-0.337083</td>\n",
       "      <td>-0.333739</td>\n",
       "      <td>-0.048877</td>\n",
       "      <td>1.000000</td>\n",
       "      <td>-0.124145</td>\n",
       "      <td>-0.125422</td>\n",
       "    </tr>\n",
       "    <tr>\n",
       "      <th>Percent Pop</th>\n",
       "      <td>-0.079113</td>\n",
       "      <td>0.536948</td>\n",
       "      <td>0.143311</td>\n",
       "      <td>-0.124145</td>\n",
       "      <td>1.000000</td>\n",
       "      <td>-0.506018</td>\n",
       "    </tr>\n",
       "    <tr>\n",
       "      <th>Percent Podcast</th>\n",
       "      <td>0.082174</td>\n",
       "      <td>-0.035817</td>\n",
       "      <td>0.061983</td>\n",
       "      <td>-0.125422</td>\n",
       "      <td>-0.506018</td>\n",
       "      <td>1.000000</td>\n",
       "    </tr>\n",
       "  </tbody>\n",
       "</table>\n",
       "</div>"
      ],
      "text/plain": [
       "                    Customer ID  Cancelled  Discount?  Number of Sessions  \\\n",
       "Customer ID            1.000000   0.269942   0.648514           -0.337083   \n",
       "Cancelled              0.269942   1.000000   0.471825           -0.333739   \n",
       "Discount?              0.648514   0.471825   1.000000           -0.048877   \n",
       "Number of Sessions    -0.337083  -0.333739  -0.048877            1.000000   \n",
       "Percent Pop           -0.079113   0.536948   0.143311           -0.124145   \n",
       "Percent Podcast        0.082174  -0.035817   0.061983           -0.125422   \n",
       "\n",
       "                    Percent Pop  Percent Podcast  \n",
       "Customer ID           -0.079113         0.082174  \n",
       "Cancelled              0.536948        -0.035817  \n",
       "Discount?              0.143311         0.061983  \n",
       "Number of Sessions    -0.124145        -0.125422  \n",
       "Percent Pop            1.000000        -0.506018  \n",
       "Percent Podcast       -0.506018         1.000000  "
      ]
     },
     "execution_count": 87,
     "metadata": {},
     "output_type": "execute_result"
    }
   ],
   "source": [
    "model_df.corr()"
   ]
  },
  {
   "cell_type": "code",
   "execution_count": null,
   "metadata": {},
   "outputs": [],
   "source": []
  }
 ],
 "metadata": {
  "kernelspec": {
   "display_name": "Python 3 (ipykernel)",
   "language": "python",
   "name": "python3"
  },
  "language_info": {
   "codemirror_mode": {
    "name": "ipython",
    "version": 3
   },
   "file_extension": ".py",
   "mimetype": "text/x-python",
   "name": "python",
   "nbconvert_exporter": "python",
   "pygments_lexer": "ipython3",
   "version": "3.9.13"
  }
 },
 "nbformat": 4,
 "nbformat_minor": 4
}
